{
  "nbformat": 4,
  "nbformat_minor": 0,
  "metadata": {
    "colab": {
      "provenance": [],
      "mount_file_id": "1W6FGtpkuWB5QAQTW-cXGK7fsmeAs9-7B",
      "authorship_tag": "ABX9TyMMe+aYV1fwUS+9P34lnzV8",
      "include_colab_link": true
    },
    "kernelspec": {
      "name": "python3",
      "display_name": "Python 3"
    },
    "language_info": {
      "name": "python"
    }
  },
  "cells": [
    {
      "cell_type": "markdown",
      "metadata": {
        "id": "view-in-github",
        "colab_type": "text"
      },
      "source": [
        "<a href=\"https://colab.research.google.com/github/luiseduardoballarati/MSc-CS-Dissertation/blob/main/Network_Generator_Testing%26Training.ipynb\" target=\"_parent\"><img src=\"https://colab.research.google.com/assets/colab-badge.svg\" alt=\"Open In Colab\"/></a>"
      ]
    },
    {
      "cell_type": "markdown",
      "source": [
        "# Imports"
      ],
      "metadata": {
        "id": "SQ7G5eckNlql"
      }
    },
    {
      "cell_type": "code",
      "execution_count": null,
      "metadata": {
        "id": "zql_gcoMQYJ4"
      },
      "outputs": [],
      "source": [
        "import pandas as pd\n",
        "from collections import defaultdict\n",
        "import re\n",
        "from datetime import datetime\n",
        "#import spacy\n",
        "import plotly.express as px\n",
        "from collections import defaultdict\n",
        "import networkx as nx\n",
        "import matplotlib.pyplot as plt\n",
        "import time\n",
        "from tqdm import tqdm"
      ]
    },
    {
      "cell_type": "code",
      "source": [
        "import nltk\n",
        "from nltk.corpus import stopwords\n",
        "from nltk.tokenize import word_tokenize, sent_tokenize\n",
        "from nltk.tag import pos_tag\n",
        "from nltk.stem import WordNetLemmatizer\n",
        "from nltk.corpus import wordnet\n",
        "nltk.download('punkt')\n",
        "nltk.download('averaged_perceptron_tagger')\n",
        "nltk.download('maxent_ne_chunker')\n",
        "nltk.download('words')\n",
        "nltk.download('punkt')\n",
        "nltk.download('stopwords')\n",
        "nltk.download('averaged_perceptron_tagger')\n",
        "nltk.download(\"wordnet\")"
      ],
      "metadata": {
        "colab": {
          "base_uri": "https://localhost:8080/"
        },
        "id": "tgxAcpCdSh_n",
        "outputId": "1f009394-03a4-40e1-a963-1d8fef78cd77"
      },
      "execution_count": null,
      "outputs": [
        {
          "output_type": "stream",
          "name": "stderr",
          "text": [
            "[nltk_data] Downloading package punkt to /root/nltk_data...\n",
            "[nltk_data]   Unzipping tokenizers/punkt.zip.\n",
            "[nltk_data] Downloading package averaged_perceptron_tagger to\n",
            "[nltk_data]     /root/nltk_data...\n",
            "[nltk_data]   Unzipping taggers/averaged_perceptron_tagger.zip.\n",
            "[nltk_data] Downloading package maxent_ne_chunker to\n",
            "[nltk_data]     /root/nltk_data...\n",
            "[nltk_data]   Unzipping chunkers/maxent_ne_chunker.zip.\n",
            "[nltk_data] Downloading package words to /root/nltk_data...\n",
            "[nltk_data]   Unzipping corpora/words.zip.\n",
            "[nltk_data] Downloading package punkt to /root/nltk_data...\n",
            "[nltk_data]   Package punkt is already up-to-date!\n",
            "[nltk_data] Downloading package stopwords to /root/nltk_data...\n",
            "[nltk_data]   Unzipping corpora/stopwords.zip.\n",
            "[nltk_data] Downloading package averaged_perceptron_tagger to\n",
            "[nltk_data]     /root/nltk_data...\n",
            "[nltk_data]   Package averaged_perceptron_tagger is already up-to-\n",
            "[nltk_data]       date!\n",
            "[nltk_data] Downloading package wordnet to /root/nltk_data...\n"
          ]
        },
        {
          "output_type": "execute_result",
          "data": {
            "text/plain": [
              "True"
            ]
          },
          "metadata": {},
          "execution_count": 4
        }
      ]
    },
    {
      "cell_type": "markdown",
      "source": [
        "# Dataset info"
      ],
      "metadata": {
        "id": "Xk278swBNoJZ"
      }
    },
    {
      "cell_type": "code",
      "source": [
        "#df = pd.read_csv('/content/drive/MyDrive/Colab Notebooks/Bath/Dissertation/The Guardian Datasets/business_guardian_articles.csv')"
      ],
      "metadata": {
        "id": "295Q49iiQq5G"
      },
      "execution_count": 1,
      "outputs": []
    },
    {
      "cell_type": "code",
      "source": [
        "df.info()"
      ],
      "metadata": {
        "colab": {
          "base_uri": "https://localhost:8080/"
        },
        "id": "gyQDLf4cQsYV",
        "outputId": "cb88affa-79e9-4d5d-d9da-c78419949405"
      },
      "execution_count": null,
      "outputs": [
        {
          "output_type": "stream",
          "name": "stdout",
          "text": [
            "<class 'pandas.core.frame.DataFrame'>\n",
            "RangeIndex: 25539 entries, 0 to 25538\n",
            "Data columns (total 7 columns):\n",
            " #   Column              Non-Null Count  Dtype \n",
            "---  ------              --------------  ----- \n",
            " 0   type                25539 non-null  object\n",
            " 1   sectionId           25539 non-null  object\n",
            " 2   sectionName         25539 non-null  object\n",
            " 3   webPublicationDate  25539 non-null  object\n",
            " 4   webTitle            25539 non-null  object\n",
            " 5   webUrl              25539 non-null  object\n",
            " 6   content             25518 non-null  object\n",
            "dtypes: object(7)\n",
            "memory usage: 1.4+ MB\n"
          ]
        }
      ]
    },
    {
      "cell_type": "code",
      "source": [
        "df = df.sample(n=1000, random_state=42)"
      ],
      "metadata": {
        "id": "gBneAXpnRI_b"
      },
      "execution_count": null,
      "outputs": []
    },
    {
      "cell_type": "code",
      "source": [
        "df.head()"
      ],
      "metadata": {
        "colab": {
          "base_uri": "https://localhost:8080/",
          "height": 293
        },
        "id": "8Mu2I0sFRfRD",
        "outputId": "fa3128fa-3787-4f24-9f01-6700743f32af"
      },
      "execution_count": null,
      "outputs": [
        {
          "output_type": "execute_result",
          "data": {
            "text/plain": [
              "          type sectionId sectionName    webPublicationDate  \\\n",
              "2166   article     world  World news  2021-09-30T15:45:52Z   \n",
              "16560  article  business    Business  2019-07-04T20:51:39Z   \n",
              "5570   article     world  World news  2021-03-15T11:26:00Z   \n",
              "4219   article   uk-news     UK news  2021-05-28T14:12:56Z   \n",
              "11286  article  business    Business  2020-05-04T23:01:20Z   \n",
              "\n",
              "                                                webTitle  \\\n",
              "2166   Demand for private jets soars as rich travelle...   \n",
              "16560  George Osborne must understand the IMF role is...   \n",
              "5570   Cheese sales soar in French lockdown – but an ...   \n",
              "4219   Bank holiday traffic: sun and Covid easing may...   \n",
              "11286  Food deliveries to vulnerable in UK 'need bett...   \n",
              "\n",
              "                                                  webUrl  \\\n",
              "2166   https://www.theguardian.com/world/2021/sep/30/...   \n",
              "16560  https://www.theguardian.com/business/nils-prat...   \n",
              "5570   https://www.theguardian.com/world/2021/mar/15/...   \n",
              "4219   https://www.theguardian.com/uk-news/2021/may/2...   \n",
              "11286  https://www.theguardian.com/business/2020/may/...   \n",
              "\n",
              "                                                 content  \n",
              "2166   Private jet providers are experiencing “unprec...  \n",
              "16560  If George Osborne’s “friends” were not adverti...  \n",
              "5570   How did the French keep smiling through the Co...  \n",
              "4219   Sunny weather, the easing of Covid restriction...  \n",
              "11286  Consumer and disability rights groups have cal...  "
            ],
            "text/html": [
              "\n",
              "  <div id=\"df-13bd921f-dfe7-474c-b1fa-e7cf53825743\" class=\"colab-df-container\">\n",
              "    <div>\n",
              "<style scoped>\n",
              "    .dataframe tbody tr th:only-of-type {\n",
              "        vertical-align: middle;\n",
              "    }\n",
              "\n",
              "    .dataframe tbody tr th {\n",
              "        vertical-align: top;\n",
              "    }\n",
              "\n",
              "    .dataframe thead th {\n",
              "        text-align: right;\n",
              "    }\n",
              "</style>\n",
              "<table border=\"1\" class=\"dataframe\">\n",
              "  <thead>\n",
              "    <tr style=\"text-align: right;\">\n",
              "      <th></th>\n",
              "      <th>type</th>\n",
              "      <th>sectionId</th>\n",
              "      <th>sectionName</th>\n",
              "      <th>webPublicationDate</th>\n",
              "      <th>webTitle</th>\n",
              "      <th>webUrl</th>\n",
              "      <th>content</th>\n",
              "    </tr>\n",
              "  </thead>\n",
              "  <tbody>\n",
              "    <tr>\n",
              "      <th>2166</th>\n",
              "      <td>article</td>\n",
              "      <td>world</td>\n",
              "      <td>World news</td>\n",
              "      <td>2021-09-30T15:45:52Z</td>\n",
              "      <td>Demand for private jets soars as rich travelle...</td>\n",
              "      <td>https://www.theguardian.com/world/2021/sep/30/...</td>\n",
              "      <td>Private jet providers are experiencing “unprec...</td>\n",
              "    </tr>\n",
              "    <tr>\n",
              "      <th>16560</th>\n",
              "      <td>article</td>\n",
              "      <td>business</td>\n",
              "      <td>Business</td>\n",
              "      <td>2019-07-04T20:51:39Z</td>\n",
              "      <td>George Osborne must understand the IMF role is...</td>\n",
              "      <td>https://www.theguardian.com/business/nils-prat...</td>\n",
              "      <td>If George Osborne’s “friends” were not adverti...</td>\n",
              "    </tr>\n",
              "    <tr>\n",
              "      <th>5570</th>\n",
              "      <td>article</td>\n",
              "      <td>world</td>\n",
              "      <td>World news</td>\n",
              "      <td>2021-03-15T11:26:00Z</td>\n",
              "      <td>Cheese sales soar in French lockdown – but an ...</td>\n",
              "      <td>https://www.theguardian.com/world/2021/mar/15/...</td>\n",
              "      <td>How did the French keep smiling through the Co...</td>\n",
              "    </tr>\n",
              "    <tr>\n",
              "      <th>4219</th>\n",
              "      <td>article</td>\n",
              "      <td>uk-news</td>\n",
              "      <td>UK news</td>\n",
              "      <td>2021-05-28T14:12:56Z</td>\n",
              "      <td>Bank holiday traffic: sun and Covid easing may...</td>\n",
              "      <td>https://www.theguardian.com/uk-news/2021/may/2...</td>\n",
              "      <td>Sunny weather, the easing of Covid restriction...</td>\n",
              "    </tr>\n",
              "    <tr>\n",
              "      <th>11286</th>\n",
              "      <td>article</td>\n",
              "      <td>business</td>\n",
              "      <td>Business</td>\n",
              "      <td>2020-05-04T23:01:20Z</td>\n",
              "      <td>Food deliveries to vulnerable in UK 'need bett...</td>\n",
              "      <td>https://www.theguardian.com/business/2020/may/...</td>\n",
              "      <td>Consumer and disability rights groups have cal...</td>\n",
              "    </tr>\n",
              "  </tbody>\n",
              "</table>\n",
              "</div>\n",
              "    <div class=\"colab-df-buttons\">\n",
              "\n",
              "  <div class=\"colab-df-container\">\n",
              "    <button class=\"colab-df-convert\" onclick=\"convertToInteractive('df-13bd921f-dfe7-474c-b1fa-e7cf53825743')\"\n",
              "            title=\"Convert this dataframe to an interactive table.\"\n",
              "            style=\"display:none;\">\n",
              "\n",
              "  <svg xmlns=\"http://www.w3.org/2000/svg\" height=\"24px\" viewBox=\"0 -960 960 960\">\n",
              "    <path d=\"M120-120v-720h720v720H120Zm60-500h600v-160H180v160Zm220 220h160v-160H400v160Zm0 220h160v-160H400v160ZM180-400h160v-160H180v160Zm440 0h160v-160H620v160ZM180-180h160v-160H180v160Zm440 0h160v-160H620v160Z\"/>\n",
              "  </svg>\n",
              "    </button>\n",
              "\n",
              "  <style>\n",
              "    .colab-df-container {\n",
              "      display:flex;\n",
              "      gap: 12px;\n",
              "    }\n",
              "\n",
              "    .colab-df-convert {\n",
              "      background-color: #E8F0FE;\n",
              "      border: none;\n",
              "      border-radius: 50%;\n",
              "      cursor: pointer;\n",
              "      display: none;\n",
              "      fill: #1967D2;\n",
              "      height: 32px;\n",
              "      padding: 0 0 0 0;\n",
              "      width: 32px;\n",
              "    }\n",
              "\n",
              "    .colab-df-convert:hover {\n",
              "      background-color: #E2EBFA;\n",
              "      box-shadow: 0px 1px 2px rgba(60, 64, 67, 0.3), 0px 1px 3px 1px rgba(60, 64, 67, 0.15);\n",
              "      fill: #174EA6;\n",
              "    }\n",
              "\n",
              "    .colab-df-buttons div {\n",
              "      margin-bottom: 4px;\n",
              "    }\n",
              "\n",
              "    [theme=dark] .colab-df-convert {\n",
              "      background-color: #3B4455;\n",
              "      fill: #D2E3FC;\n",
              "    }\n",
              "\n",
              "    [theme=dark] .colab-df-convert:hover {\n",
              "      background-color: #434B5C;\n",
              "      box-shadow: 0px 1px 3px 1px rgba(0, 0, 0, 0.15);\n",
              "      filter: drop-shadow(0px 1px 2px rgba(0, 0, 0, 0.3));\n",
              "      fill: #FFFFFF;\n",
              "    }\n",
              "  </style>\n",
              "\n",
              "    <script>\n",
              "      const buttonEl =\n",
              "        document.querySelector('#df-13bd921f-dfe7-474c-b1fa-e7cf53825743 button.colab-df-convert');\n",
              "      buttonEl.style.display =\n",
              "        google.colab.kernel.accessAllowed ? 'block' : 'none';\n",
              "\n",
              "      async function convertToInteractive(key) {\n",
              "        const element = document.querySelector('#df-13bd921f-dfe7-474c-b1fa-e7cf53825743');\n",
              "        const dataTable =\n",
              "          await google.colab.kernel.invokeFunction('convertToInteractive',\n",
              "                                                    [key], {});\n",
              "        if (!dataTable) return;\n",
              "\n",
              "        const docLinkHtml = 'Like what you see? Visit the ' +\n",
              "          '<a target=\"_blank\" href=https://colab.research.google.com/notebooks/data_table.ipynb>data table notebook</a>'\n",
              "          + ' to learn more about interactive tables.';\n",
              "        element.innerHTML = '';\n",
              "        dataTable['output_type'] = 'display_data';\n",
              "        await google.colab.output.renderOutput(dataTable, element);\n",
              "        const docLink = document.createElement('div');\n",
              "        docLink.innerHTML = docLinkHtml;\n",
              "        element.appendChild(docLink);\n",
              "      }\n",
              "    </script>\n",
              "  </div>\n",
              "\n",
              "\n",
              "<div id=\"df-bc4d7205-ac60-43d1-b432-6594c56c0c25\">\n",
              "  <button class=\"colab-df-quickchart\" onclick=\"quickchart('df-bc4d7205-ac60-43d1-b432-6594c56c0c25')\"\n",
              "            title=\"Suggest charts\"\n",
              "            style=\"display:none;\">\n",
              "\n",
              "<svg xmlns=\"http://www.w3.org/2000/svg\" height=\"24px\"viewBox=\"0 0 24 24\"\n",
              "     width=\"24px\">\n",
              "    <g>\n",
              "        <path d=\"M19 3H5c-1.1 0-2 .9-2 2v14c0 1.1.9 2 2 2h14c1.1 0 2-.9 2-2V5c0-1.1-.9-2-2-2zM9 17H7v-7h2v7zm4 0h-2V7h2v10zm4 0h-2v-4h2v4z\"/>\n",
              "    </g>\n",
              "</svg>\n",
              "  </button>\n",
              "\n",
              "<style>\n",
              "  .colab-df-quickchart {\n",
              "      --bg-color: #E8F0FE;\n",
              "      --fill-color: #1967D2;\n",
              "      --hover-bg-color: #E2EBFA;\n",
              "      --hover-fill-color: #174EA6;\n",
              "      --disabled-fill-color: #AAA;\n",
              "      --disabled-bg-color: #DDD;\n",
              "  }\n",
              "\n",
              "  [theme=dark] .colab-df-quickchart {\n",
              "      --bg-color: #3B4455;\n",
              "      --fill-color: #D2E3FC;\n",
              "      --hover-bg-color: #434B5C;\n",
              "      --hover-fill-color: #FFFFFF;\n",
              "      --disabled-bg-color: #3B4455;\n",
              "      --disabled-fill-color: #666;\n",
              "  }\n",
              "\n",
              "  .colab-df-quickchart {\n",
              "    background-color: var(--bg-color);\n",
              "    border: none;\n",
              "    border-radius: 50%;\n",
              "    cursor: pointer;\n",
              "    display: none;\n",
              "    fill: var(--fill-color);\n",
              "    height: 32px;\n",
              "    padding: 0;\n",
              "    width: 32px;\n",
              "  }\n",
              "\n",
              "  .colab-df-quickchart:hover {\n",
              "    background-color: var(--hover-bg-color);\n",
              "    box-shadow: 0 1px 2px rgba(60, 64, 67, 0.3), 0 1px 3px 1px rgba(60, 64, 67, 0.15);\n",
              "    fill: var(--button-hover-fill-color);\n",
              "  }\n",
              "\n",
              "  .colab-df-quickchart-complete:disabled,\n",
              "  .colab-df-quickchart-complete:disabled:hover {\n",
              "    background-color: var(--disabled-bg-color);\n",
              "    fill: var(--disabled-fill-color);\n",
              "    box-shadow: none;\n",
              "  }\n",
              "\n",
              "  .colab-df-spinner {\n",
              "    border: 2px solid var(--fill-color);\n",
              "    border-color: transparent;\n",
              "    border-bottom-color: var(--fill-color);\n",
              "    animation:\n",
              "      spin 1s steps(1) infinite;\n",
              "  }\n",
              "\n",
              "  @keyframes spin {\n",
              "    0% {\n",
              "      border-color: transparent;\n",
              "      border-bottom-color: var(--fill-color);\n",
              "      border-left-color: var(--fill-color);\n",
              "    }\n",
              "    20% {\n",
              "      border-color: transparent;\n",
              "      border-left-color: var(--fill-color);\n",
              "      border-top-color: var(--fill-color);\n",
              "    }\n",
              "    30% {\n",
              "      border-color: transparent;\n",
              "      border-left-color: var(--fill-color);\n",
              "      border-top-color: var(--fill-color);\n",
              "      border-right-color: var(--fill-color);\n",
              "    }\n",
              "    40% {\n",
              "      border-color: transparent;\n",
              "      border-right-color: var(--fill-color);\n",
              "      border-top-color: var(--fill-color);\n",
              "    }\n",
              "    60% {\n",
              "      border-color: transparent;\n",
              "      border-right-color: var(--fill-color);\n",
              "    }\n",
              "    80% {\n",
              "      border-color: transparent;\n",
              "      border-right-color: var(--fill-color);\n",
              "      border-bottom-color: var(--fill-color);\n",
              "    }\n",
              "    90% {\n",
              "      border-color: transparent;\n",
              "      border-bottom-color: var(--fill-color);\n",
              "    }\n",
              "  }\n",
              "</style>\n",
              "\n",
              "  <script>\n",
              "    async function quickchart(key) {\n",
              "      const quickchartButtonEl =\n",
              "        document.querySelector('#' + key + ' button');\n",
              "      quickchartButtonEl.disabled = true;  // To prevent multiple clicks.\n",
              "      quickchartButtonEl.classList.add('colab-df-spinner');\n",
              "      try {\n",
              "        const charts = await google.colab.kernel.invokeFunction(\n",
              "            'suggestCharts', [key], {});\n",
              "      } catch (error) {\n",
              "        console.error('Error during call to suggestCharts:', error);\n",
              "      }\n",
              "      quickchartButtonEl.classList.remove('colab-df-spinner');\n",
              "      quickchartButtonEl.classList.add('colab-df-quickchart-complete');\n",
              "    }\n",
              "    (() => {\n",
              "      let quickchartButtonEl =\n",
              "        document.querySelector('#df-bc4d7205-ac60-43d1-b432-6594c56c0c25 button');\n",
              "      quickchartButtonEl.style.display =\n",
              "        google.colab.kernel.accessAllowed ? 'block' : 'none';\n",
              "    })();\n",
              "  </script>\n",
              "</div>\n",
              "\n",
              "    </div>\n",
              "  </div>\n"
            ],
            "application/vnd.google.colaboratory.intrinsic+json": {
              "type": "dataframe",
              "variable_name": "df",
              "repr_error": "0"
            }
          },
          "metadata": {},
          "execution_count": 18
        }
      ]
    },
    {
      "cell_type": "code",
      "source": [
        "df.drop(['webUrl'], axis=1, inplace=True)"
      ],
      "metadata": {
        "id": "mYRdAPjuRsEe"
      },
      "execution_count": null,
      "outputs": []
    },
    {
      "cell_type": "code",
      "source": [
        "df.info()"
      ],
      "metadata": {
        "colab": {
          "base_uri": "https://localhost:8080/"
        },
        "id": "-XEnlr75RzC8",
        "outputId": "11393c21-71b7-44a5-9132-41238a763826"
      },
      "execution_count": null,
      "outputs": [
        {
          "output_type": "stream",
          "name": "stdout",
          "text": [
            "<class 'pandas.core.frame.DataFrame'>\n",
            "Index: 1000 entries, 2166 to 10855\n",
            "Data columns (total 6 columns):\n",
            " #   Column              Non-Null Count  Dtype \n",
            "---  ------              --------------  ----- \n",
            " 0   type                1000 non-null   object\n",
            " 1   sectionId           1000 non-null   object\n",
            " 2   sectionName         1000 non-null   object\n",
            " 3   webPublicationDate  1000 non-null   object\n",
            " 4   webTitle            1000 non-null   object\n",
            " 5   content             1000 non-null   object\n",
            "dtypes: object(6)\n",
            "memory usage: 87.0+ KB\n"
          ]
        }
      ]
    },
    {
      "cell_type": "code",
      "source": [
        "df.iloc[0].content"
      ],
      "metadata": {
        "colab": {
          "base_uri": "https://localhost:8080/",
          "height": 123
        },
        "id": "uqRj881YSY6h",
        "outputId": "796ad9aa-03f5-4e72-8936-c3bc2be94a9a"
      },
      "execution_count": null,
      "outputs": [
        {
          "output_type": "execute_result",
          "data": {
            "text/plain": [
              "'Private jet providers are experiencing “unprecedented demand” from wealthy customers seeking to avoid the “mosh pit” of commercial flights on autumn getaways as coronavirus travel restrictions ease. Flexjet and PrivateFly, which supply private jets to rich families and business executives, said they were “experiencing exceptionally strong demand” for September and October travel at a time of year when bookings normally fall away. Flexjet, which offers shared ownership in its fleet of private jets in Europe, said it operated 53% more flights in September than the previous month, bucking the usual seasonal trends. Marine Eugène, the European managing director of Flexjet and PrivateFly, said: “Our industry in Europe traditionally sees a significant peak in July and August, followed by a tailing off in September – but not this year. “We are currently experiencing exceptionally strong demand, with the appetite for personal travel not yet sated after a later start to summer due to restrictions, and now business flying is also taking off alongside.” Eugène said the UK government’s relaxation of travel restrictions from 4 October and the US relaxation of rules for vaccinated European visitors propelled the demand for increased private jet flights, with wealthy travellers continuing to make plans for short breaks or holidays by private jet into the autumn period and later than usually seen. She said business destinations such as Paris, Zurich, Munich, and Amsterdam had climbed back into the top 10 list of European destinations, which were previously dominated by holiday hotspots. “Many of our Flexjet owners and PrivateFly clients are starting to fly for business again and we are witnessing a release of pent-up demand for in-person meetings,” she added. “We have senior executives and entrepreneurs in sectors such as finance and technology, booking multiple itineraries to see investment targets, or make site visits. “The US easing of its ban on UK and European travellers from November is also adding to the unusually high demand in the final quarter of the year.” During the early stages of the pandemic, wealthy people had turned to chartering private jets for “evacuation flights” out of countries hit by the coronavirus outbreak. Private jets emit about 20 times more carbon dioxide per passenger mile than commercial flights, according to industry data. Brian Foley, an aviation analyst, said demand for private jet flights had started to feed through to increased orders for new plane construction after a decline in 2020 that was the first annual fall in new jet deliveries in more than a decade. Foley said the demand was being driven by “well-heeled travellers look[ing] for alternatives to the airlines’ crowded terminals and being shoehorned into a middle seat next to strangers”. “[They are] looking to private jet charter or fractional ownership to avoid the mosh pit. Objective data showed business jet travel quickly climbing back toward pre-pandemic levels, while airlines continued to languish.” Foley said the big private jet manufacturers were reporting twice as many orders for jets as the number they were currently producing, leading to “meaningful ramp-up” in production capabilities. “Since aeroplane production can’t be increased with the flip of a switch, overall 2021 deliveries won’t be all that different from previous years over the past decade,” he said. “However, as OEMs [original equipment manufacturers] gain confidence that the increased demand is real, and that they can crank out more planes without the risk of unsold units becoming expensive lawn ornaments, the spin-up will become more pronounced.” His consultancy, Brian Foley Associates, has predicted that about 700 new private jets will be delivered in 2021 – roughly the same as previous years. However, he said a “meaningful ramp-up will begin in 2022 and continue unabated for several years, easily surpassing the 900-unit level for the first time since 2007”.'"
            ],
            "application/vnd.google.colaboratory.intrinsic+json": {
              "type": "string"
            }
          },
          "metadata": {},
          "execution_count": 21
        }
      ]
    },
    {
      "cell_type": "code",
      "source": [
        "  df.iloc[0].webTitle"
      ],
      "metadata": {
        "colab": {
          "base_uri": "https://localhost:8080/",
          "height": 36
        },
        "id": "6E_-hImZN1lZ",
        "outputId": "d35ec539-037b-4633-90a2-2e57de88ab5a"
      },
      "execution_count": null,
      "outputs": [
        {
          "output_type": "execute_result",
          "data": {
            "text/plain": [
              "'Demand for private jets soars as rich travellers try to avoid ‘mosh pit’'"
            ],
            "application/vnd.google.colaboratory.intrinsic+json": {
              "type": "string"
            }
          },
          "metadata": {},
          "execution_count": 22
        }
      ]
    },
    {
      "cell_type": "markdown",
      "source": [
        "# NLTK functions"
      ],
      "metadata": {
        "id": "SO14fxErNr5H"
      }
    },
    {
      "cell_type": "code",
      "source": [
        "lemma = WordNetLemmatizer()\n",
        "stop_words = set(stopwords.words('english'))\n",
        "\n",
        "# Define a regex pattern for non-words (only keeping words with letters)\n",
        "pattern = re.compile(r'^[a-zA-Z]+$')"
      ],
      "metadata": {
        "id": "KLPeCwBcSPb0"
      },
      "execution_count": null,
      "outputs": []
    },
    {
      "cell_type": "code",
      "source": [
        "def process(content):\n",
        "  # Sentence tokenization\n",
        "  sentences = sent_tokenize(content)\n",
        "  # Process each sentence\n",
        "  processed_sentences = [process_sentence(sentence) for sentence in sentences]\n",
        "  return processed_sentences"
      ],
      "metadata": {
        "id": "20kM0tEzSuqj"
      },
      "execution_count": null,
      "outputs": []
    },
    {
      "cell_type": "code",
      "source": [
        "# Function to process each sentence\n",
        "def process_sentence(sentence):\n",
        "    # Word tokenization\n",
        "    words = word_tokenize(sentence)\n",
        "    # Remove stop words\n",
        "    filtered_words = [word for word in words if word.lower() not in stop_words and pattern.match(word)]\n",
        "    #filtered_words = [word for word in words]\n",
        "    # POS tagging\n",
        "    pos_tags = pos_tag(filtered_words)\n",
        "    return pos_tags"
      ],
      "metadata": {
        "id": "c7J4eMb-SwDp"
      },
      "execution_count": null,
      "outputs": []
    },
    {
      "cell_type": "code",
      "source": [
        "import time\n",
        "\n",
        "# Start the timer\n",
        "start_time = time.time()\n",
        "\n",
        "# Your processing code\n",
        "df['Processed Sentences'] = df['content'].apply(lambda x: process(x) if isinstance(x, str) else None)\n",
        "\n",
        "# End the timer\n",
        "end_time = time.time()\n",
        "\n",
        "# Calculate the elapsed time\n",
        "elapsed_time = end_time - start_time\n",
        "print(f\"Time taken to process the sentences: {elapsed_time} seconds\")"
      ],
      "metadata": {
        "colab": {
          "base_uri": "https://localhost:8080/"
        },
        "id": "vbVhYDsJS8s2",
        "outputId": "52790165-e7ab-478a-dfdc-0dcfcfb86471"
      },
      "execution_count": null,
      "outputs": [
        {
          "output_type": "stream",
          "name": "stdout",
          "text": [
            "Time taken to process the sentences: 47.02213430404663 seconds\n"
          ]
        }
      ]
    },
    {
      "cell_type": "code",
      "source": [
        "df.iloc[0]['content']"
      ],
      "metadata": {
        "colab": {
          "base_uri": "https://localhost:8080/",
          "height": 157
        },
        "id": "iP7dM3j4TbpG",
        "outputId": "151264bb-e8b9-4856-f8c2-79b2c6369deb"
      },
      "execution_count": null,
      "outputs": [
        {
          "output_type": "execute_result",
          "data": {
            "text/plain": [
              "'Private jet providers are experiencing “unprecedented demand” from wealthy customers seeking to avoid the “mosh pit” of commercial flights on autumn getaways as coronavirus travel restrictions ease. Flexjet and PrivateFly, which supply private jets to rich families and business executives, said they were “experiencing exceptionally strong demand” for September and October travel at a time of year when bookings normally fall away. Flexjet, which offers shared ownership in its fleet of private jets in Europe, said it operated 53% more flights in September than the previous month, bucking the usual seasonal trends. Marine Eugène, the European managing director of Flexjet and PrivateFly, said: “Our industry in Europe traditionally sees a significant peak in July and August, followed by a tailing off in September – but not this year. “We are currently experiencing exceptionally strong demand, with the appetite for personal travel not yet sated after a later start to summer due to restrictions, and now business flying is also taking off alongside.” Eugène said the UK government’s relaxation of travel restrictions from 4 October and the US relaxation of rules for vaccinated European visitors propelled the demand for increased private jet flights, with wealthy travellers continuing to make plans for short breaks or holidays by private jet into the autumn period and later than usually seen. She said business destinations such as Paris, Zurich, Munich, and Amsterdam had climbed back into the top 10 list of European destinations, which were previously dominated by holiday hotspots. “Many of our Flexjet owners and PrivateFly clients are starting to fly for business again and we are witnessing a release of pent-up demand for in-person meetings,” she added. “We have senior executives and entrepreneurs in sectors such as finance and technology, booking multiple itineraries to see investment targets, or make site visits. “The US easing of its ban on UK and European travellers from November is also adding to the unusually high demand in the final quarter of the year.” During the early stages of the pandemic, wealthy people had turned to chartering private jets for “evacuation flights” out of countries hit by the coronavirus outbreak. Private jets emit about 20 times more carbon dioxide per passenger mile than commercial flights, according to industry data. Brian Foley, an aviation analyst, said demand for private jet flights had started to feed through to increased orders for new plane construction after a decline in 2020 that was the first annual fall in new jet deliveries in more than a decade. Foley said the demand was being driven by “well-heeled travellers look[ing] for alternatives to the airlines’ crowded terminals and being shoehorned into a middle seat next to strangers”. “[They are] looking to private jet charter or fractional ownership to avoid the mosh pit. Objective data showed business jet travel quickly climbing back toward pre-pandemic levels, while airlines continued to languish.” Foley said the big private jet manufacturers were reporting twice as many orders for jets as the number they were currently producing, leading to “meaningful ramp-up” in production capabilities. “Since aeroplane production can’t be increased with the flip of a switch, overall 2021 deliveries won’t be all that different from previous years over the past decade,” he said. “However, as OEMs [original equipment manufacturers] gain confidence that the increased demand is real, and that they can crank out more planes without the risk of unsold units becoming expensive lawn ornaments, the spin-up will become more pronounced.” His consultancy, Brian Foley Associates, has predicted that about 700 new private jets will be delivered in 2021 – roughly the same as previous years. However, he said a “meaningful ramp-up will begin in 2022 and continue unabated for several years, easily surpassing the 900-unit level for the first time since 2007”.'"
            ],
            "application/vnd.google.colaboratory.intrinsic+json": {
              "type": "string"
            }
          },
          "metadata": {},
          "execution_count": 14
        }
      ]
    },
    {
      "cell_type": "code",
      "source": [
        "sentence = df.iloc[0]['content'][0:198]"
      ],
      "metadata": {
        "id": "MynjoCqQVix-"
      },
      "execution_count": null,
      "outputs": []
    },
    {
      "cell_type": "code",
      "source": [
        "sentence2 = df.iloc[0]['content'][199:433]"
      ],
      "metadata": {
        "id": "BlvDl60YLuju"
      },
      "execution_count": null,
      "outputs": []
    },
    {
      "cell_type": "code",
      "source": [
        "print(df.iloc[0]['Processed Sentences'][0])"
      ],
      "metadata": {
        "colab": {
          "base_uri": "https://localhost:8080/"
        },
        "id": "tB2YfHPjTTuq",
        "outputId": "2be26942-65e2-469e-b476-716ac7ff7d92"
      },
      "execution_count": null,
      "outputs": [
        {
          "output_type": "stream",
          "name": "stdout",
          "text": [
            "[('Private', 'JJ'), ('jet', 'NN'), ('providers', 'NNS'), ('experiencing', 'VBG'), ('unprecedented', 'JJ'), ('demand', 'NN'), ('wealthy', 'NN'), ('customers', 'NNS'), ('seeking', 'VBG'), ('avoid', 'JJ'), ('mosh', 'NN'), ('pit', 'JJ'), ('commercial', 'JJ'), ('flights', 'NNS'), ('autumn', 'VBP'), ('getaways', 'NNS'), ('coronavirus', 'VBP'), ('travel', 'NN'), ('restrictions', 'NNS'), ('ease', 'VBP')]\n"
          ]
        }
      ]
    },
    {
      "cell_type": "markdown",
      "source": [
        "# Spacy functions"
      ],
      "metadata": {
        "id": "ls2qnb4mNvhR"
      }
    },
    {
      "cell_type": "code",
      "source": [
        "# Load SpaCy's English language model\n",
        "nlp = spacy.load(\"en_core_web_sm\")\n",
        "\n",
        "# Process the sentence with SpaCy\n",
        "doc = nlp(sentence)\n",
        "\n",
        "# Print dependency parsing results\n",
        "for token in doc:\n",
        "    print(f\"Token: {token.text}, POS: {token.pos_}, Dependency: {token.dep_}, Head: {token.head.text}\")\n",
        "\n",
        "# Identify direct and indirect objects\n",
        "for token in doc:\n",
        "    if token.dep_ == \"dobj\":  # Direct Object\n",
        "        print(f\"Direct Object: {token.text}\")\n",
        "    if token.dep_ == \"iobj\":  # Indirect Object\n",
        "        print(f\"Indirect Object: {token.text}\")"
      ],
      "metadata": {
        "colab": {
          "base_uri": "https://localhost:8080/"
        },
        "id": "STDvwk6DVdG2",
        "outputId": "1829926e-61a7-463e-cb0c-991fdd7f837a"
      },
      "execution_count": null,
      "outputs": [
        {
          "output_type": "stream",
          "name": "stdout",
          "text": [
            "Token: Private, POS: ADJ, Dependency: amod, Head: providers\n",
            "Token: jet, POS: NOUN, Dependency: compound, Head: providers\n",
            "Token: providers, POS: NOUN, Dependency: nsubj, Head: experiencing\n",
            "Token: are, POS: AUX, Dependency: aux, Head: experiencing\n",
            "Token: experiencing, POS: VERB, Dependency: ROOT, Head: experiencing\n",
            "Token: “, POS: PUNCT, Dependency: punct, Head: demand\n",
            "Token: unprecedented, POS: ADJ, Dependency: amod, Head: demand\n",
            "Token: demand, POS: NOUN, Dependency: dobj, Head: experiencing\n",
            "Token: ”, POS: PUNCT, Dependency: punct, Head: demand\n",
            "Token: from, POS: ADP, Dependency: prep, Head: demand\n",
            "Token: wealthy, POS: ADJ, Dependency: amod, Head: customers\n",
            "Token: customers, POS: NOUN, Dependency: pobj, Head: from\n",
            "Token: seeking, POS: VERB, Dependency: acl, Head: customers\n",
            "Token: to, POS: PART, Dependency: aux, Head: avoid\n",
            "Token: avoid, POS: VERB, Dependency: xcomp, Head: seeking\n",
            "Token: the, POS: DET, Dependency: det, Head: pit\n",
            "Token: “, POS: PUNCT, Dependency: punct, Head: pit\n",
            "Token: mosh, POS: PROPN, Dependency: compound, Head: pit\n",
            "Token: pit, POS: NOUN, Dependency: dobj, Head: avoid\n",
            "Token: ”, POS: PUNCT, Dependency: punct, Head: pit\n",
            "Token: of, POS: ADP, Dependency: prep, Head: pit\n",
            "Token: commercial, POS: ADJ, Dependency: amod, Head: flights\n",
            "Token: flights, POS: NOUN, Dependency: pobj, Head: of\n",
            "Token: on, POS: ADP, Dependency: prep, Head: flights\n",
            "Token: autumn, POS: NOUN, Dependency: compound, Head: getaways\n",
            "Token: getaways, POS: NOUN, Dependency: pobj, Head: on\n",
            "Token: as, POS: ADP, Dependency: prep, Head: pit\n",
            "Token: coronavirus, POS: NOUN, Dependency: compound, Head: travel\n",
            "Token: travel, POS: NOUN, Dependency: compound, Head: restrictions\n",
            "Token: restrictions, POS: NOUN, Dependency: compound, Head: ease\n",
            "Token: ease, POS: NOUN, Dependency: pobj, Head: as\n",
            "Token: ., POS: PUNCT, Dependency: punct, Head: experiencing\n",
            "Direct Object: demand\n",
            "Direct Object: pit\n"
          ]
        }
      ]
    },
    {
      "cell_type": "code",
      "source": [
        "doc = nlp(sentence)\n",
        "lista = []\n",
        "# Print dependency parsing results\n",
        "for token in doc:\n",
        "    lista.append(token.pos_)\n",
        "lista"
      ],
      "metadata": {
        "colab": {
          "base_uri": "https://localhost:8080/"
        },
        "id": "Qg2KAM_jasTS",
        "outputId": "5639e51e-3011-4632-ace9-d7b93c07927b"
      },
      "execution_count": null,
      "outputs": [
        {
          "output_type": "execute_result",
          "data": {
            "text/plain": [
              "['ADJ',\n",
              " 'NOUN',\n",
              " 'NOUN',\n",
              " 'AUX',\n",
              " 'VERB',\n",
              " 'PUNCT',\n",
              " 'ADJ',\n",
              " 'NOUN',\n",
              " 'PUNCT',\n",
              " 'ADP',\n",
              " 'ADJ',\n",
              " 'NOUN',\n",
              " 'VERB',\n",
              " 'PART',\n",
              " 'VERB',\n",
              " 'DET',\n",
              " 'PUNCT',\n",
              " 'PROPN',\n",
              " 'NOUN',\n",
              " 'PUNCT',\n",
              " 'ADP',\n",
              " 'ADJ',\n",
              " 'NOUN',\n",
              " 'ADP',\n",
              " 'NOUN',\n",
              " 'NOUN',\n",
              " 'ADP',\n",
              " 'NOUN',\n",
              " 'NOUN',\n",
              " 'NOUN',\n",
              " 'NOUN',\n",
              " 'PUNCT']"
            ]
          },
          "metadata": {},
          "execution_count": 18
        }
      ]
    },
    {
      "cell_type": "code",
      "source": [
        "sentence"
      ],
      "metadata": {
        "colab": {
          "base_uri": "https://localhost:8080/",
          "height": 53
        },
        "id": "6TR8EGqfVw-Y",
        "outputId": "824181f6-f490-4db9-df9b-deefb49dc426"
      },
      "execution_count": null,
      "outputs": [
        {
          "output_type": "execute_result",
          "data": {
            "text/plain": [
              "'Private jet providers are experiencing “unprecedented demand” from wealthy customers seeking to avoid the “mosh pit” of commercial flights on autumn getaways as coronavirus travel restrictions ease.'"
            ],
            "application/vnd.google.colaboratory.intrinsic+json": {
              "type": "string"
            }
          },
          "metadata": {},
          "execution_count": 19
        }
      ]
    },
    {
      "cell_type": "code",
      "source": [
        "process_sentence(sentence)"
      ],
      "metadata": {
        "colab": {
          "base_uri": "https://localhost:8080/"
        },
        "id": "yS3NNX8yd5D1",
        "outputId": "0d68a09c-9c21-4763-8d2e-5de1011f38d1"
      },
      "execution_count": null,
      "outputs": [
        {
          "output_type": "execute_result",
          "data": {
            "text/plain": [
              "[('Private', 'JJ'),\n",
              " ('jet', 'NN'),\n",
              " ('providers', 'NNS'),\n",
              " ('experiencing', 'VBG'),\n",
              " ('unprecedented', 'JJ'),\n",
              " ('demand', 'NN'),\n",
              " ('wealthy', 'NN'),\n",
              " ('customers', 'NNS'),\n",
              " ('seeking', 'VBG'),\n",
              " ('avoid', 'JJ'),\n",
              " ('mosh', 'NN'),\n",
              " ('pit', 'JJ'),\n",
              " ('commercial', 'JJ'),\n",
              " ('flights', 'NNS'),\n",
              " ('autumn', 'VBP'),\n",
              " ('getaways', 'NNS'),\n",
              " ('coronavirus', 'VBP'),\n",
              " ('travel', 'NN'),\n",
              " ('restrictions', 'NNS'),\n",
              " ('ease', 'VBP')]"
            ]
          },
          "metadata": {},
          "execution_count": 20
        }
      ]
    },
    {
      "cell_type": "code",
      "source": [
        "text = 'Private jet providers experiencing unprecedent demand wealthy customers seeking avoid mosh pit commercial flights autumn getaways coronavirus travel restrictions ease'"
      ],
      "metadata": {
        "id": "BiVu2ysFeRq8"
      },
      "execution_count": null,
      "outputs": []
    },
    {
      "cell_type": "code",
      "source": [
        "# Load SpaCy's English language model\n",
        "nlp = spacy.load(\"en_core_web_sm\")\n",
        "\n",
        "# Process the sentence with SpaCy\n",
        "doc = nlp(text)\n",
        "\n",
        "# Print dependency parsing results\n",
        "for token in doc:\n",
        "    print(f\"Token: {token.text}, POS: {token.pos_}, Dependency: {token.dep_}, Head: {token.head.text}\")\n",
        "\n",
        "# Identify direct and indirect objects\n",
        "for token in doc:\n",
        "    if token.dep_ == \"dobj\":  # Direct Object\n",
        "        print(f\"Direct Object: {token.text}\")\n",
        "    if token.dep_ == \"iobj\":  # Indirect Object\n",
        "        print(f\"Indirect Object: {token.text}\")"
      ],
      "metadata": {
        "colab": {
          "base_uri": "https://localhost:8080/"
        },
        "id": "qb5ffTjReJ1G",
        "outputId": "65b99824-bf99-4933-a35f-2cb63076b339"
      },
      "execution_count": null,
      "outputs": [
        {
          "output_type": "stream",
          "name": "stdout",
          "text": [
            "Token: Private, POS: ADJ, Dependency: amod, Head: providers\n",
            "Token: jet, POS: NOUN, Dependency: compound, Head: providers\n",
            "Token: providers, POS: NOUN, Dependency: nsubj, Head: getaways\n",
            "Token: experiencing, POS: VERB, Dependency: acl, Head: providers\n",
            "Token: unprecedent, POS: ADJ, Dependency: amod, Head: demand\n",
            "Token: demand, POS: NOUN, Dependency: nmod, Head: customers\n",
            "Token: wealthy, POS: ADJ, Dependency: amod, Head: customers\n",
            "Token: customers, POS: NOUN, Dependency: dobj, Head: experiencing\n",
            "Token: seeking, POS: VERB, Dependency: advcl, Head: experiencing\n",
            "Token: avoid, POS: VERB, Dependency: xcomp, Head: seeking\n",
            "Token: mosh, POS: NOUN, Dependency: compound, Head: pit\n",
            "Token: pit, POS: NOUN, Dependency: nmod, Head: flights\n",
            "Token: commercial, POS: ADJ, Dependency: amod, Head: flights\n",
            "Token: flights, POS: NOUN, Dependency: compound, Head: autumn\n",
            "Token: autumn, POS: NOUN, Dependency: nsubj, Head: getaways\n",
            "Token: getaways, POS: VERB, Dependency: ROOT, Head: getaways\n",
            "Token: coronavirus, POS: NOUN, Dependency: compound, Head: restrictions\n",
            "Token: travel, POS: NOUN, Dependency: compound, Head: restrictions\n",
            "Token: restrictions, POS: NOUN, Dependency: compound, Head: ease\n",
            "Token: ease, POS: NOUN, Dependency: dobj, Head: getaways\n",
            "Direct Object: customers\n",
            "Direct Object: ease\n"
          ]
        }
      ]
    },
    {
      "cell_type": "code",
      "source": [
        "# Load spaCy's English language model\n",
        "nlp = spacy.load(\"en_core_web_sm\")\n",
        "\n",
        "# Define the sentence\n",
        "sentence = \"Private jet providers are experiencing “unprecedented demand” from wealthy customers seeking to avoid the “mosh pit” of commercial flights on autumn getaways as coronavirus travel restrictions ease.\"\n",
        "\n",
        "# Process the sentence with spaCy\n",
        "doc = nlp(sentence)\n",
        "\n",
        "lista = []\n",
        "# Print the dependencies\n",
        "for token in doc:\n",
        "    lista.extend([(token.text, token.dep_, token.head.text)])\n",
        "lista"
      ],
      "metadata": {
        "colab": {
          "base_uri": "https://localhost:8080/"
        },
        "id": "bpw5BU3StJdh",
        "outputId": "346b876b-2dcc-4579-f9fc-f46a515ddfa7"
      },
      "execution_count": null,
      "outputs": [
        {
          "output_type": "execute_result",
          "data": {
            "text/plain": [
              "[('Private', 'amod', 'providers'),\n",
              " ('jet', 'compound', 'providers'),\n",
              " ('providers', 'nsubj', 'experiencing'),\n",
              " ('are', 'aux', 'experiencing'),\n",
              " ('experiencing', 'ROOT', 'experiencing'),\n",
              " ('“', 'punct', 'demand'),\n",
              " ('unprecedented', 'amod', 'demand'),\n",
              " ('demand', 'dobj', 'experiencing'),\n",
              " ('”', 'punct', 'demand'),\n",
              " ('from', 'prep', 'demand'),\n",
              " ('wealthy', 'amod', 'customers'),\n",
              " ('customers', 'pobj', 'from'),\n",
              " ('seeking', 'acl', 'customers'),\n",
              " ('to', 'aux', 'avoid'),\n",
              " ('avoid', 'xcomp', 'seeking'),\n",
              " ('the', 'det', 'pit'),\n",
              " ('“', 'punct', 'pit'),\n",
              " ('mosh', 'compound', 'pit'),\n",
              " ('pit', 'dobj', 'avoid'),\n",
              " ('”', 'punct', 'pit'),\n",
              " ('of', 'prep', 'pit'),\n",
              " ('commercial', 'amod', 'flights'),\n",
              " ('flights', 'pobj', 'of'),\n",
              " ('on', 'prep', 'flights'),\n",
              " ('autumn', 'compound', 'getaways'),\n",
              " ('getaways', 'pobj', 'on'),\n",
              " ('as', 'prep', 'pit'),\n",
              " ('coronavirus', 'compound', 'travel'),\n",
              " ('travel', 'compound', 'restrictions'),\n",
              " ('restrictions', 'compound', 'ease'),\n",
              " ('ease', 'pobj', 'as'),\n",
              " ('.', 'punct', 'experiencing')]"
            ]
          },
          "metadata": {},
          "execution_count": 23
        }
      ]
    },
    {
      "cell_type": "code",
      "source": [
        "# Load spaCy's English language model\n",
        "nlp = spacy.load(\"en_core_web_sm\")\n",
        "\n",
        "# Define the sentence\n",
        "sentence2\n",
        "\n",
        "# Process the sentence with spaCy\n",
        "doc = nlp(sentence2)\n",
        "\n",
        "lista2 = []\n",
        "# Print the dependencies\n",
        "for token in doc:\n",
        "    lista2.extend([(token.text, token.dep_, token.head.text)])"
      ],
      "metadata": {
        "id": "y7Y9rs_pMSty"
      },
      "execution_count": null,
      "outputs": []
    },
    {
      "cell_type": "markdown",
      "source": [
        "# Graphs"
      ],
      "metadata": {
        "id": "TdEiAGepN09P"
      }
    },
    {
      "cell_type": "code",
      "source": [
        "import networkx as nx\n",
        "import matplotlib.pyplot as plt\n",
        "\n",
        "# The provided data\n",
        "data = [\n",
        "    ('Private', 'amod', 'providers'),\n",
        "    ('jet', 'compound', 'providers'),\n",
        "    ('providers', 'nsubj', 'experiencing'),\n",
        "    ('are', 'aux', 'experiencing'),\n",
        "    ('experiencing', 'ROOT', 'experiencing'),\n",
        "    ('“', 'punct', 'demand'),\n",
        "    ('unprecedented', 'amod', 'demand'),\n",
        "    ('demand', 'dobj', 'experiencing'),\n",
        "    ('”', 'punct', 'demand'),\n",
        "    ('from', 'prep', 'demand'),\n",
        "    ('wealthy', 'amod', 'customers'),\n",
        "    ('customers', 'pobj', 'from'),\n",
        "    ('seeking', 'acl', 'customers'),\n",
        "    ('to', 'aux', 'avoid'),\n",
        "    ('avoid', 'xcomp', 'seeking'),\n",
        "    ('the', 'det', 'pit'),\n",
        "    ('“', 'punct', 'pit'),\n",
        "    ('mosh', 'compound', 'pit'),\n",
        "    ('pit', 'dobj', 'avoid'),\n",
        "    ('”', 'punct', 'pit'),\n",
        "    ('of', 'prep', 'pit'),\n",
        "    ('commercial', 'amod', 'flights'),\n",
        "    ('flights', 'pobj', 'of'),\n",
        "    ('on', 'prep', 'flights'),\n",
        "    ('autumn', 'compound', 'getaways'),\n",
        "    ('getaways', 'pobj', 'on'),\n",
        "    ('as', 'prep', 'pit'),\n",
        "    ('coronavirus', 'compound', 'travel'),\n",
        "    ('travel', 'compound', 'restrictions'),\n",
        "    ('restrictions', 'compound', 'ease'),\n",
        "    ('ease', 'pobj', 'as'),\n",
        "    ('.', 'punct', 'experiencing')\n",
        "]\n",
        "\n",
        "# Create a directed graph\n",
        "G = nx.DiGraph()\n",
        "\n",
        "# Add edges to the graph\n",
        "for source, dep, target in data:\n",
        "    G.add_edge(source, target, label=dep)\n",
        "\n",
        "pos = nx.spring_layout(G, k=0.7)  # Increase k value to spread out nodes more\n",
        "\n",
        "# Set up the plot\n",
        "plt.figure(figsize=(21, 15))  # Set the figure size\n",
        "\n",
        "# Draw the nodes\n",
        "nx.draw_networkx_nodes(G, pos, node_color='lightblue', node_size=1500)\n",
        "\n",
        "# Draw the edges\n",
        "nx.draw_networkx_edges(G, pos, edgelist=G.edges(), arrowstyle='-|>', arrowsize=15, edge_color='gray')\n",
        "\n",
        "# Draw the labels\n",
        "nx.draw_networkx_labels(G, pos, font_size=7, font_weight='bold')\n",
        "\n",
        "# Draw the edge labels\n",
        "edge_labels = nx.get_edge_attributes(G, 'label')\n",
        "nx.draw_networkx_edge_labels(G, pos, edge_labels=edge_labels, font_color='red', font_size=5)\n",
        "\n",
        "# Customize the axes and title\n",
        "plt.title(\"Dependency Graph\", fontsize=20)\n",
        "plt.axis('off')  # Turn off the axis\n",
        "\n",
        "plt.savefig('dependency_graph_completed.png', format='png', dpi=300, bbox_inches='tight')\n",
        "\n",
        "# Show the plot\n",
        "plt.show()\n"
      ],
      "metadata": {
        "colab": {
          "base_uri": "https://localhost:8080/",
          "height": 791
        },
        "id": "nhZKFYtWFT9e",
        "outputId": "592fc1b7-374b-40b5-b5c1-f21d0b842dd7"
      },
      "execution_count": null,
      "outputs": [
        {
          "output_type": "display_data",
          "data": {
            "text/plain": [
              "<Figure size 2100x1500 with 1 Axes>"
            ],
            "image/png": "[encoded data removed]"
          },
          "metadata": {}
        }
      ]
    },
    {
      "cell_type": "code",
      "source": [
        "# The provided data\n",
        "data = [\n",
        "    ('Private', 'amod', 'providers'),\n",
        "    ('jet', 'compound', 'providers'),\n",
        "    ('providers', 'nsubj', 'experiencing'),\n",
        "    ('are', 'aux', 'experiencing'),\n",
        "    ('experiencing', 'ROOT', 'experiencing'),\n",
        "    ('unprecedented', 'amod', 'demand'),\n",
        "    ('demand', 'dobj', 'experiencing'),\n",
        "    ('from', 'prep', 'demand'),\n",
        "    ('wealthy', 'amod', 'customers'),\n",
        "    ('customers', 'pobj', 'from'),\n",
        "    ('seeking', 'acl', 'customers'),\n",
        "    ('to', 'aux', 'avoid'),\n",
        "    ('avoid', 'xcomp', 'seeking'),\n",
        "    ('the', 'det', 'pit'),\n",
        "    ('mosh', 'compound', 'pit'),\n",
        "    ('pit', 'dobj', 'avoid'),\n",
        "    ('of', 'prep', 'pit'),\n",
        "    ('commercial', 'amod', 'flights'),\n",
        "    ('flights', 'pobj', 'of'),\n",
        "    ('on', 'prep', 'flights'),\n",
        "    ('autumn', 'compound', 'getaways'),\n",
        "    ('getaways', 'pobj', 'on'),\n",
        "    ('as', 'prep', 'pit'),\n",
        "    ('coronavirus', 'compound', 'travel'),\n",
        "    ('travel', 'compound', 'restrictions'),\n",
        "    ('restrictions', 'compound', 'ease'),\n",
        "    ('ease', 'pobj', 'as'),\n",
        "]\n",
        "\n",
        "# Create a directed graph\n",
        "G = nx.DiGraph()\n",
        "\n",
        "# Add edges to the graph\n",
        "for source, dep, target in data:\n",
        "    G.add_edge(source, target, label=dep)\n",
        "\n",
        "# Position nodes using spring layout\n",
        "pos = nx.spring_layout(G)\n",
        "\n",
        "# Set up the plot\n",
        "plt.figure(figsize=(21, 15))  # Set the figure size\n",
        "\n",
        "# Draw the nodes\n",
        "nx.draw_networkx_nodes(G, pos, node_color='lightblue', node_size=1500)\n",
        "\n",
        "# Draw the edges\n",
        "nx.draw_networkx_edges(G, pos, edgelist=G.edges(), arrowstyle='-|>', arrowsize=15, edge_color='gray')\n",
        "\n",
        "# Draw the labels\n",
        "nx.draw_networkx_labels(G, pos, font_size=7, font_weight='bold')\n",
        "\n",
        "# Draw the edge labels\n",
        "edge_labels = nx.get_edge_attributes(G, 'label')\n",
        "nx.draw_networkx_edge_labels(G, pos, edge_labels=edge_labels, font_color='red', font_size=5)\n",
        "\n",
        "# Customize the axes and title\n",
        "plt.title(\"Dependency Graph\", fontsize=20)\n",
        "plt.axis('off')  # Turn off the axis\n",
        "\n",
        "# Show the plot\n",
        "plt.show()\n"
      ],
      "metadata": {
        "colab": {
          "base_uri": "https://localhost:8080/",
          "height": 791
        },
        "id": "ZceDPpULHQpb",
        "outputId": "ef9ebd76-b17d-4710-b5be-4b6c38b73250"
      },
      "execution_count": null,
      "outputs": [
        {
          "output_type": "display_data",
          "data": {
            "text/plain": [
              "<Figure size 2100x1500 with 1 Axes>"
            ],
            "image/png": "[encoded data removed]"
          },
          "metadata": {}
        }
      ]
    },
    {
      "cell_type": "code",
      "source": [
        "import matplotlib.pyplot as plt\n",
        "import networkx as nx\n",
        "\n",
        "# The provided data\n",
        "data = [('Private', 'amod', 'providers'),\n",
        " ('jet', 'compound', 'providers'),\n",
        " ('providers', 'nsubj', 'experiencing'),\n",
        " ('experiencing', 'ROOT', 'experiencing'),\n",
        " ('unprecedented', 'amod', 'demand'),\n",
        " ('demand', 'dobj', 'experiencing'),\n",
        " ('wealthy', 'amod', 'customers'),\n",
        " ('customers', 'pobj', 'from'),\n",
        " ('seeking', 'acl', 'customers'),\n",
        " ('avoid', 'xcomp', 'seeking'),\n",
        " ('mosh', 'compound', 'pit'),\n",
        " ('pit', 'dobj', 'avoid'),\n",
        " ('commercial', 'amod', 'flights'),\n",
        " ('flights', 'pobj', 'of'),\n",
        " ('autumn', 'compound', 'getaways'),\n",
        " ('getaways', 'pobj', 'on'),\n",
        " ('coronavirus', 'compound', 'travel'),\n",
        " ('travel', 'compound', 'restrictions'),\n",
        " ('restrictions', 'compound', 'ease')]\n",
        "\n",
        "# Create a directed graph\n",
        "G = nx.DiGraph()\n",
        "\n",
        "# Add edges to the graph\n",
        "for source, dep, target in data:\n",
        "    G.add_edge(source, target, label=dep)\n",
        "\n",
        "# Position nodes using spring layout with a higher value of k for more spacing\n",
        "pos = nx.spring_layout(G, k=0.3)  # Increase k value to spread out nodes more\n",
        "\n",
        "# Set up the plot\n",
        "plt.figure(figsize=(21, 15))  # Set the figure size\n",
        "\n",
        "# Draw the nodes\n",
        "nx.draw_networkx_nodes(G, pos, node_color='lightblue', node_size=1500)\n",
        "\n",
        "# Draw the edges\n",
        "nx.draw_networkx_edges(G, pos, edgelist=G.edges(), arrowstyle='-|>', arrowsize=15, edge_color='gray')\n",
        "\n",
        "# Draw the labels\n",
        "nx.draw_networkx_labels(G, pos, font_size=10, font_weight='bold')\n",
        "\n",
        "# Draw the edge labels\n",
        "edge_labels = nx.get_edge_attributes(G, 'label')\n",
        "nx.draw_networkx_edge_labels(G, pos, edge_labels=edge_labels, font_color='red', font_size=5)\n",
        "\n",
        "# Customize the axes and title\n",
        "plt.title(\"Dependency Graph\", fontsize=20)\n",
        "plt.axis('off')  # Turn off the axis\n",
        "\n",
        "# Save the plot as a PNG file\n",
        "plt.savefig('dependency_graph.png', format='png', dpi=300, bbox_inches='tight')\n",
        "\n",
        "# Show the plot\n",
        "plt.show()"
      ],
      "metadata": {
        "colab": {
          "base_uri": "https://localhost:8080/",
          "height": 791
        },
        "id": "2RCydv7aH_Pj",
        "outputId": "576f4eeb-4a78-4cb6-b15a-2b2e0d7fd388"
      },
      "execution_count": null,
      "outputs": [
        {
          "output_type": "display_data",
          "data": {
            "text/plain": [
              "<Figure size 2100x1500 with 1 Axes>"
            ],
            "image/png": "[encoded data removed]"
          },
          "metadata": {}
        }
      ]
    },
    {
      "cell_type": "code",
      "source": [
        "\"\"\"\n",
        "# The provided data\n",
        "data = lista2\n",
        "\n",
        "# Create a directed graph\n",
        "G = nx.DiGraph()\n",
        "\n",
        "# Add edges to the graph\n",
        "for source, dep, target in data:\n",
        "    G.add_edge(source, target, label=dep)\n",
        "\n",
        "# Position nodes using spring layout\n",
        "pos = nx.spring_layout(G)\n",
        "\n",
        "# Set up the plot\n",
        "plt.figure(figsize=(21, 15))  # Set the figure size\n",
        "\n",
        "# Draw the nodes\n",
        "nx.draw_networkx_nodes(G, pos, node_color='lightblue', node_size=1500)\n",
        "\n",
        "# Draw the edges\n",
        "nx.draw_networkx_edges(G, pos, edgelist=G.edges(), arrowstyle='-|>', arrowsize=15, edge_color='gray')\n",
        "\n",
        "# Draw the labels\n",
        "nx.draw_networkx_labels(G, pos, font_size=7, font_weight='bold')\n",
        "\n",
        "# Draw the edge labels\n",
        "edge_labels = nx.get_edge_attributes(G, 'label')\n",
        "nx.draw_networkx_edge_labels(G, pos, edge_labels=edge_labels, font_color='red', font_size=5)\n",
        "\n",
        "# Customize the axes and title\n",
        "plt.title(\"Dependency Graph\", fontsize=20)\n",
        "plt.axis('off')  # Turn off the axis\n",
        "\n",
        "# Show the plot\n",
        "#plt.show()\n",
        "\"\"\""
      ],
      "metadata": {
        "colab": {
          "base_uri": "https://localhost:8080/",
          "height": 109
        },
        "id": "l-4otQGuMai7",
        "outputId": "65819665-b32a-480f-cf56-9ac450b6aacd"
      },
      "execution_count": 3,
      "outputs": [
        {
          "output_type": "execute_result",
          "data": {
            "text/plain": [
              "'\\n# The provided data\\ndata = lista2\\n\\n# Create a directed graph\\nG = nx.DiGraph()\\n\\n# Add edges to the graph\\nfor source, dep, target in data:\\n    G.add_edge(source, target, label=dep)\\n\\n# Position nodes using spring layout\\npos = nx.spring_layout(G)\\n\\n# Set up the plot\\nplt.figure(figsize=(21, 15))  # Set the figure size\\n\\n# Draw the nodes\\nnx.draw_networkx_nodes(G, pos, node_color=\\'lightblue\\', node_size=1500)\\n\\n# Draw the edges\\nnx.draw_networkx_edges(G, pos, edgelist=G.edges(), arrowstyle=\\'-|>\\', arrowsize=15, edge_color=\\'gray\\')\\n\\n# Draw the labels\\nnx.draw_networkx_labels(G, pos, font_size=7, font_weight=\\'bold\\')\\n\\n# Draw the edge labels\\nedge_labels = nx.get_edge_attributes(G, \\'label\\')\\nnx.draw_networkx_edge_labels(G, pos, edge_labels=edge_labels, font_color=\\'red\\', font_size=5)\\n\\n# Customize the axes and title\\nplt.title(\"Dependency Graph\", fontsize=20)\\nplt.axis(\\'off\\')  # Turn off the axis\\n\\n# Show the plot\\n#plt.show()\\n'"
            ],
            "application/vnd.google.colaboratory.intrinsic+json": {
              "type": "string"
            }
          },
          "metadata": {},
          "execution_count": 3
        }
      ]
    },
    {
      "cell_type": "code",
      "source": [
        "\"\"\"\n",
        "# The provided data\n",
        "\n",
        "filtered_data = [\n",
        "    (word1, dep, word2) for word1, dep, word2 in lista2\n",
        "    if not (nlp.vocab[word1].is_stop or nlp.vocab[word1].is_punct or\n",
        "            nlp.vocab[word2].is_stop or nlp.vocab[word2].is_punct)\n",
        "]\n",
        "\n",
        "data = filtered_data\n",
        "# Create a directed graph\n",
        "G = nx.DiGraph()\n",
        "\n",
        "# Add edges to the graph\n",
        "for source, dep, target in data:\n",
        "    G.add_edge(source, target, label=dep)\n",
        "\n",
        "# Position nodes using spring layout\n",
        "pos = nx.spring_layout(G)\n",
        "\n",
        "# Set up the plot\n",
        "plt.figure(figsize=(21, 15))  # Set the figure size\n",
        "\n",
        "# Draw the nodes\n",
        "nx.draw_networkx_nodes(G, pos, node_color='lightblue', node_size=1500)\n",
        "\n",
        "# Draw the edges\n",
        "nx.draw_networkx_edges(G, pos, edgelist=G.edges(), arrowstyle='-|>', arrowsize=15, edge_color='gray')\n",
        "\n",
        "# Draw the labels\n",
        "nx.draw_networkx_labels(G, pos, font_size=7, font_weight='bold')\n",
        "\n",
        "# Draw the edge labels\n",
        "edge_labels = nx.get_edge_attributes(G, 'label')\n",
        "nx.draw_networkx_edge_labels(G, pos, edge_labels=edge_labels, font_color='red', font_size=5)\n",
        "\n",
        "# Customize the axes and title\n",
        "plt.title(\"Dependency Graph\", fontsize=20)\n",
        "plt.axis('off')  # Turn off the axis\n",
        "\n",
        "# Show the plot\n",
        "#plt.show()\n",
        "\"\"\""
      ],
      "metadata": {
        "colab": {
          "base_uri": "https://localhost:8080/",
          "height": 127
        },
        "id": "ncElKHMrM5jt",
        "outputId": "31aaab6a-6604-4dfd-a13f-46f26c95ed38"
      },
      "execution_count": 4,
      "outputs": [
        {
          "output_type": "execute_result",
          "data": {
            "text/plain": [
              "'\\n# The provided data\\n\\nfiltered_data = [\\n    (word1, dep, word2) for word1, dep, word2 in lista2\\n    if not (nlp.vocab[word1].is_stop or nlp.vocab[word1].is_punct or\\n            nlp.vocab[word2].is_stop or nlp.vocab[word2].is_punct)\\n]\\n\\ndata = filtered_data\\n# Create a directed graph\\nG = nx.DiGraph()\\n\\n# Add edges to the graph\\nfor source, dep, target in data:\\n    G.add_edge(source, target, label=dep)\\n\\n# Position nodes using spring layout\\npos = nx.spring_layout(G)\\n\\n# Set up the plot\\nplt.figure(figsize=(21, 15))  # Set the figure size\\n\\n# Draw the nodes\\nnx.draw_networkx_nodes(G, pos, node_color=\\'lightblue\\', node_size=1500)\\n\\n# Draw the edges\\nnx.draw_networkx_edges(G, pos, edgelist=G.edges(), arrowstyle=\\'-|>\\', arrowsize=15, edge_color=\\'gray\\')\\n\\n# Draw the labels\\nnx.draw_networkx_labels(G, pos, font_size=7, font_weight=\\'bold\\')\\n\\n# Draw the edge labels\\nedge_labels = nx.get_edge_attributes(G, \\'label\\')\\nnx.draw_networkx_edge_labels(G, pos, edge_labels=edge_labels, font_color=\\'red\\', font_size=5)\\n\\n# Customize the axes and title\\nplt.title(\"Dependency Graph\", fontsize=20)\\nplt.axis(\\'off\\')  # Turn off the axis\\n\\n# Show the plot\\n#plt.show()\\n'"
            ],
            "application/vnd.google.colaboratory.intrinsic+json": {
              "type": "string"
            }
          },
          "metadata": {},
          "execution_count": 4
        }
      ]
    },
    {
      "cell_type": "markdown",
      "source": [
        "# NLTK Chomsky Tree"
      ],
      "metadata": {
        "id": "CCElO0KUN-M8"
      }
    },
    {
      "cell_type": "code",
      "source": [
        "import nltk\n",
        "from nltk import Tree\n",
        "\n",
        "# Function to convert spaCy parse tree to nltk Tree\n",
        "def to_nltk_tree(node):\n",
        "    if not list(node.children):\n",
        "        return f\"{node.text}/{node.dep_}\"\n",
        "    return Tree(f\"{node.text}/{node.dep_}\", [to_nltk_tree(child) for child in node.children])\n",
        "\n",
        "# Convert the spaCy parse tree to nltk Tree\n",
        "nltk_tree = to_nltk_tree([sent.root for sent in doc.sents][0])\n",
        "\n",
        "# Draw the tree\n",
        "nltk_tree.pretty_print()\n"
      ],
      "metadata": {
        "colab": {
          "base_uri": "https://localhost:8080/"
        },
        "id": "w5ZFvQUMuBms",
        "outputId": "0c111224-3d26-488c-9b74-f7a1d0c0c3cd"
      },
      "execution_count": null,
      "outputs": [
        {
          "output_type": "stream",
          "name": "stdout",
          "text": [
            "                                                                                                                                 said/ROOT                                                                                                                                          \n",
            "    _________________________________________________________________________________________________________________________________|________________________________________________________________                                                                               \n",
            "   |                                           Flexjet/nsubj                                                                                                                                    experiencing/                                                                       \n",
            "   |                                                 |                                                                                                                                              ccomp                                                                           \n",
            "   |       __________________________________________|_________________________                                            ___________________________________________________________________________|____________________________                                                  \n",
            "   |      |           |           |       |                               supply/relcl                                    |          |        |             demand/dobj                                                            |                                                \n",
            "   |      |           |           |       |           _________________________|_____________                             |          |        |        __________|_____________________                                            |                                                 \n",
            "   |      |           |           |       |          |            |                       to/prep                         |          |        |       |          |                  for/prep                                    at/prep                                             \n",
            "   |      |           |           |       |          |            |                          |                            |          |        |       |          |                     |                                           |                                                 \n",
            "   |      |           |           |       |          |            |                    families/pobj                      |          |        |       |          |                travel/pobj                                  time/pobj                                            \n",
            "   |      |           |           |       |          |            |             _____________|______________              |          |        |       |          |                     |                         __________________|____________                                     \n",
            "   |      |           |           |       |          |        jets/dobj        |             |       executives/conj      |          |        |       |     strong/amod          September/nmod                 |    of/prep                fall/relcl                              \n",
            "   |      |           |           |       |          |            |            |             |              |             |          |        |       |          |           __________|______________          |       |           ____________|_____________________________       \n",
            "./punct and/cc PrivateFly/conj ,/punct ,/punct  which/nsubj  private/amod  rich/amod       and/cc    business/compoun they/nsubj  were/aux “/punct ”/punct exceptionally/ and/cc                 October/conj a/det year/pobj when/advmod bookings/nsubj normally/advmod away/advmod\n",
            "                                                                                                            d                                                  advmod                                                                                                               \n",
            "\n"
          ]
        }
      ]
    },
    {
      "cell_type": "markdown",
      "source": [
        "# Spacy processor final"
      ],
      "metadata": {
        "id": "nJlftfw6OKNs"
      }
    },
    {
      "cell_type": "code",
      "source": [
        "# Load SpaCy's English language model\n",
        "nlp = spacy.load(\"en_core_web_sm\")\n",
        "\n",
        "def spacy_processor(text):\n",
        "    # Process the text with SpaCy\n",
        "    doc = nlp(text)\n",
        "\n",
        "    # List to hold the results for each sentence\n",
        "    nested_list = []\n",
        "\n",
        "    # Iterate over the sentences in the document\n",
        "    for sent in doc.sents:\n",
        "        lista = []\n",
        "        # Extract dependencies for each token in the sentence\n",
        "        for token in sent:\n",
        "            lista.extend([(token.text, token.pos_, token.dep_, token.head.text)])\n",
        "\n",
        "        # Filter out stopwords and punctuation\n",
        "        filtered_data = [\n",
        "            (word1, pos, dep, word2) for word1, pos, dep, word2 in lista\n",
        "            if not (nlp.vocab[word1].is_stop or nlp.vocab[word1].is_punct)\n",
        "        ]\n",
        "        # Add the filtered data to the nested list\n",
        "        nested_list.append(filtered_data)\n",
        "\n",
        "    #return nested_list\n",
        "    return nested_list"
      ],
      "metadata": {
        "id": "R-vI6j8CSJ5b"
      },
      "execution_count": null,
      "outputs": []
    },
    {
      "cell_type": "code",
      "source": [
        "# Load SpaCy's English language model\n",
        "nlp = spacy.load(\"en_core_web_sm\")\n",
        "\n",
        "def spacy_stop_punc_removal(text):\n",
        "    # Process the text with SpaCy\n",
        "    doc = nlp(text)\n",
        "\n",
        "    # List to hold the filtered tokens\n",
        "    filtered_tokens = []\n",
        "\n",
        "    # Iterate over each token in the document\n",
        "    for token in doc:\n",
        "        # Filter out stopwords and punctuation\n",
        "        if not token.is_stop and not token.is_punct:\n",
        "            filtered_tokens.append(token.text)\n",
        "\n",
        "    # Join the filtered tokens to form the cleaned text\n",
        "    cleaned_text = \" \".join(filtered_tokens)\n",
        "\n",
        "    return cleaned_text"
      ],
      "metadata": {
        "id": "oTAKZFcgOweN"
      },
      "execution_count": null,
      "outputs": []
    },
    {
      "cell_type": "code",
      "source": [
        "def print_cpu_ram_usage():\n",
        "    # Get CPU and RAM usage\n",
        "    cpu_percent = psutil.cpu_percent(interval=1)\n",
        "    ram_percent = psutil.virtual_memory().percent\n",
        "    print(f\"CPU Usage: {cpu_percent}%\")\n",
        "    print(f\"RAM Usage: {ram_percent}%\")\n",
        "\n",
        "def print_gpu_usage():\n",
        "    # Get GPU usage\n",
        "    gpus = GPUtil.getGPUs()\n",
        "    list_gpus = []\n",
        "    for gpu in gpus:\n",
        "        gpu_id = gpu.id\n",
        "        gpu_name = gpu.name\n",
        "        gpu_load = f\"{gpu.load * 100:.0f}%\"\n",
        "        gpu_free_memory = f\"{gpu.memoryFree}MB\"\n",
        "        gpu_used_memory = f\"{gpu.memoryUsed}MB\"\n",
        "        gpu_total_memory = f\"{gpu.memoryTotal}MB\"\n",
        "        list_gpus.append((gpu_id, gpu_name, gpu_load, gpu_free_memory, gpu_used_memory, gpu_total_memory))\n",
        "\n",
        "    print(tabulate(list_gpus, headers=(\"GPU ID\", \"GPU Name\", \"GPU Load\", \"GPU Free Memory\", \"GPU Used Memory\", \"GPU Total Memory\")))"
      ],
      "metadata": {
        "id": "0xGLgLi9-iwc"
      },
      "execution_count": null,
      "outputs": []
    },
    {
      "cell_type": "code",
      "source": [
        "teste = spacy_processor(df.iloc[0].content)\n",
        "#teste"
      ],
      "metadata": {
        "id": "VpVC__p9g--F"
      },
      "execution_count": null,
      "outputs": []
    },
    {
      "cell_type": "code",
      "source": [
        "#sentencetest = df.iloc[0]['Spacy Processed Sentences']"
      ],
      "metadata": {
        "id": "CvK4Rm__VQuQ"
      },
      "execution_count": null,
      "outputs": []
    },
    {
      "cell_type": "code",
      "source": [
        "import spacy\n",
        "import textacy\n",
        "import matplotlib.pylab as plt\n",
        "import networkx as nx\n",
        "\n",
        "# Load spacy model\n",
        "nlp = spacy.load('en_core_web_sm')\n",
        "# Plain text\n",
        "\n",
        "# Process plain text with spacy\n",
        "doc = nlp(tr[1])\n",
        "\n",
        "# Extract SVO list from spacy object\n",
        "triples = list(textacy.extract.subject_verb_object_triples(doc))\n",
        "\n",
        "print(triples)\n",
        "# [SVOTriple(subject=[I], verb=[am, going], object=[to, extract, SVO])]"
      ],
      "metadata": {
        "colab": {
          "base_uri": "https://localhost:8080/",
          "height": 211
        },
        "id": "WaN45tEfOEvs",
        "outputId": "801cfb1d-95cb-4613-b291-fe475ef0f38d"
      },
      "execution_count": null,
      "outputs": [
        {
          "output_type": "error",
          "ename": "ModuleNotFoundError",
          "evalue": "No module named 'textacy'",
          "traceback": [
            "\u001b[0;31m---------------------------------------------------------------------------\u001b[0m",
            "\u001b[0;31mModuleNotFoundError\u001b[0m                       Traceback (most recent call last)",
            "\u001b[0;32m<ipython-input-44-c6b84d6877a1>\u001b[0m in \u001b[0;36m<cell line: 2>\u001b[0;34m()\u001b[0m\n\u001b[1;32m      1\u001b[0m \u001b[0;32mimport\u001b[0m \u001b[0mspacy\u001b[0m\u001b[0;34m\u001b[0m\u001b[0;34m\u001b[0m\u001b[0m\n\u001b[0;32m----> 2\u001b[0;31m \u001b[0;32mimport\u001b[0m \u001b[0mtextacy\u001b[0m\u001b[0;34m\u001b[0m\u001b[0;34m\u001b[0m\u001b[0m\n\u001b[0m\u001b[1;32m      3\u001b[0m \u001b[0;32mimport\u001b[0m \u001b[0mmatplotlib\u001b[0m\u001b[0;34m.\u001b[0m\u001b[0mpylab\u001b[0m \u001b[0;32mas\u001b[0m \u001b[0mplt\u001b[0m\u001b[0;34m\u001b[0m\u001b[0;34m\u001b[0m\u001b[0m\n\u001b[1;32m      4\u001b[0m \u001b[0;32mimport\u001b[0m \u001b[0mnetworkx\u001b[0m \u001b[0;32mas\u001b[0m \u001b[0mnx\u001b[0m\u001b[0;34m\u001b[0m\u001b[0;34m\u001b[0m\u001b[0m\n\u001b[1;32m      5\u001b[0m \u001b[0;34m\u001b[0m\u001b[0m\n",
            "\u001b[0;31mModuleNotFoundError\u001b[0m: No module named 'textacy'"
          ]
        }
      ]
    },
    {
      "cell_type": "code",
      "source": [
        "# Add edges to the graph\n",
        "for i in range(len(teste)):\n",
        "  print(teste[i])"
      ],
      "metadata": {
        "colab": {
          "base_uri": "https://localhost:8080/"
        },
        "id": "kvp2Lhj2Bi45",
        "outputId": "bbabeb1c-53d8-42ee-8665-2606d3b83b6a"
      },
      "execution_count": null,
      "outputs": [
        {
          "output_type": "stream",
          "name": "stdout",
          "text": [
            "[('Private', 'ADJ', 'amod', 'providers'), ('jet', 'NOUN', 'compound', 'providers'), ('providers', 'NOUN', 'nsubj', 'experiencing'), ('experiencing', 'VERB', 'ROOT', 'experiencing'), ('unprecedented', 'ADJ', 'amod', 'demand'), ('demand', 'NOUN', 'dobj', 'experiencing'), ('wealthy', 'ADJ', 'amod', 'customers'), ('customers', 'NOUN', 'pobj', 'from'), ('seeking', 'VERB', 'acl', 'customers'), ('avoid', 'VERB', 'xcomp', 'seeking'), ('mosh', 'PROPN', 'compound', 'pit'), ('pit', 'NOUN', 'dobj', 'avoid'), ('commercial', 'ADJ', 'amod', 'flights'), ('flights', 'NOUN', 'pobj', 'of'), ('autumn', 'NOUN', 'compound', 'getaways'), ('getaways', 'NOUN', 'pobj', 'on'), ('coronavirus', 'NOUN', 'compound', 'travel'), ('travel', 'NOUN', 'compound', 'restrictions'), ('restrictions', 'NOUN', 'compound', 'ease'), ('ease', 'NOUN', 'pobj', 'as')]\n",
            "[('Flexjet', 'PROPN', 'nsubj', 'said'), ('PrivateFly', 'PROPN', 'conj', 'Flexjet'), ('supply', 'VERB', 'relcl', 'Flexjet'), ('private', 'ADJ', 'amod', 'jets'), ('jets', 'NOUN', 'dobj', 'supply'), ('rich', 'ADJ', 'amod', 'families'), ('families', 'NOUN', 'pobj', 'to'), ('business', 'NOUN', 'compound', 'executives'), ('executives', 'NOUN', 'conj', 'families'), ('said', 'VERB', 'ROOT', 'said'), ('experiencing', 'VERB', 'ccomp', 'said'), ('exceptionally', 'ADV', 'advmod', 'strong'), ('strong', 'ADJ', 'amod', 'demand'), ('demand', 'NOUN', 'dobj', 'experiencing'), ('September', 'PROPN', 'nmod', 'travel'), ('October', 'PROPN', 'conj', 'September'), ('travel', 'NOUN', 'pobj', 'for'), ('time', 'NOUN', 'pobj', 'at'), ('year', 'NOUN', 'pobj', 'of'), ('bookings', 'NOUN', 'nsubj', 'fall'), ('normally', 'ADV', 'advmod', 'fall'), ('fall', 'VERB', 'relcl', 'time'), ('away', 'ADV', 'advmod', 'fall')]\n",
            "[('Flexjet', 'PROPN', 'nsubj', 'said'), ('offers', 'VERB', 'relcl', 'Flexjet'), ('shared', 'VERB', 'amod', 'ownership'), ('ownership', 'NOUN', 'dobj', 'offers'), ('fleet', 'NOUN', 'pobj', 'in'), ('private', 'ADJ', 'amod', 'jets'), ('jets', 'NOUN', 'pobj', 'of'), ('Europe', 'PROPN', 'pobj', 'in'), ('said', 'VERB', 'ROOT', 'said'), ('operated', 'VERB', 'ccomp', 'said'), ('53', 'NUM', 'nummod', '%'), ('flights', 'NOUN', 'dobj', 'operated'), ('September', 'PROPN', 'pobj', 'in'), ('previous', 'ADJ', 'amod', 'month'), ('month', 'NOUN', 'pobj', 'than'), ('bucking', 'VERB', 'advcl', 'operated'), ('usual', 'ADJ', 'amod', 'trends'), ('seasonal', 'ADJ', 'amod', 'trends'), ('trends', 'NOUN', 'dobj', 'bucking')]\n",
            "[('Marine', 'PROPN', 'compound', 'Eugène'), ('Eugène', 'PROPN', 'nsubj', 'said'), ('European', 'ADJ', 'amod', 'director'), ('managing', 'VERB', 'amod', 'director'), ('director', 'NOUN', 'appos', 'Eugène'), ('Flexjet', 'PROPN', 'pobj', 'of'), ('PrivateFly', 'PROPN', 'conj', 'Flexjet'), ('said', 'VERB', 'ROOT', 'said'), ('industry', 'NOUN', 'nsubj', 'sees'), ('Europe', 'PROPN', 'pobj', 'in'), ('traditionally', 'ADV', 'advmod', 'sees'), ('sees', 'VERB', 'ccomp', 'said'), ('significant', 'ADJ', 'amod', 'peak'), ('peak', 'NOUN', 'dobj', 'sees'), ('July', 'PROPN', 'pobj', 'in'), ('August', 'PROPN', 'conj', 'July'), ('followed', 'VERB', 'advcl', 'sees'), ('tailing', 'NOUN', 'pobj', 'by'), ('September', 'PROPN', 'pobj', 'in'), ('year', 'NOUN', 'npadvmod', 'followed')]\n",
            "[('currently', 'ADV', 'advmod', 'experiencing'), ('experiencing', 'VERB', 'ROOT', 'experiencing'), ('exceptionally', 'ADV', 'advmod', 'strong'), ('strong', 'ADJ', 'amod', 'demand'), ('demand', 'NOUN', 'dobj', 'experiencing'), ('appetite', 'NOUN', 'nsubj', 'sated'), ('personal', 'ADJ', 'amod', 'travel'), ('travel', 'NOUN', 'pobj', 'for'), ('sated', 'VERB', 'advcl', 'experiencing'), ('later', 'ADJ', 'amod', 'start'), ('start', 'NOUN', 'pobj', 'after'), ('summer', 'NOUN', 'pobj', 'to'), ('restrictions', 'NOUN', 'pobj', 'due'), ('business', 'NOUN', 'compound', 'flying'), ('flying', 'NOUN', 'nsubj', 'taking'), ('taking', 'VERB', 'conj', 'sated'), ('alongside', 'ADV', 'advmod', 'taking')]\n",
            "[('Eugène', 'PROPN', 'nsubj', 'said'), ('said', 'VERB', 'ROOT', 'said'), ('UK', 'PROPN', 'compound', 'government'), ('government', 'NOUN', 'poss', 'relaxation'), ('relaxation', 'NOUN', 'nsubj', 'propelled'), ('travel', 'NOUN', 'compound', 'restrictions'), ('restrictions', 'NOUN', 'pobj', 'of'), ('4', 'NUM', 'nummod', 'October'), ('October', 'PROPN', 'pobj', 'from'), ('relaxation', 'NOUN', 'conj', 'October'), ('rules', 'NOUN', 'pobj', 'of'), ('vaccinated', 'ADJ', 'amod', 'visitors'), ('European', 'ADJ', 'amod', 'visitors'), ('visitors', 'NOUN', 'pobj', 'for'), ('propelled', 'VERB', 'ccomp', 'said'), ('demand', 'NOUN', 'dobj', 'propelled'), ('increased', 'VERB', 'amod', 'flights'), ('private', 'ADJ', 'amod', 'flights'), ('jet', 'NOUN', 'compound', 'flights'), ('flights', 'NOUN', 'pobj', 'for'), ('wealthy', 'ADJ', 'amod', 'travellers'), ('travellers', 'NOUN', 'pobj', 'with'), ('continuing', 'VERB', 'acl', 'travellers'), ('plans', 'NOUN', 'dobj', 'make'), ('short', 'ADJ', 'amod', 'breaks'), ('breaks', 'NOUN', 'pobj', 'for'), ('holidays', 'NOUN', 'conj', 'breaks'), ('private', 'ADJ', 'amod', 'jet'), ('jet', 'NOUN', 'pobj', 'by'), ('autumn', 'NOUN', 'compound', 'period'), ('period', 'NOUN', 'pobj', 'into'), ('later', 'ADV', 'advmod', 'seen'), ('usually', 'ADV', 'advmod', 'seen'), ('seen', 'VERB', 'conj', 'continuing')]\n",
            "[('said', 'VERB', 'ROOT', 'said'), ('business', 'NOUN', 'compound', 'destinations'), ('destinations', 'NOUN', 'nsubj', 'climbed'), ('Paris', 'PROPN', 'pobj', 'as'), ('Zurich', 'PROPN', 'conj', 'Paris'), ('Munich', 'PROPN', 'conj', 'Zurich'), ('Amsterdam', 'PROPN', 'conj', 'Munich'), ('climbed', 'VERB', 'ccomp', 'said'), ('10', 'NUM', 'nummod', 'list'), ('list', 'NOUN', 'pobj', 'into'), ('European', 'ADJ', 'amod', 'destinations'), ('destinations', 'NOUN', 'pobj', 'of'), ('previously', 'ADV', 'advmod', 'dominated'), ('dominated', 'VERB', 'relcl', 'destinations'), ('holiday', 'NOUN', 'compound', 'hotspots'), ('hotspots', 'NOUN', 'pobj', 'by')]\n",
            "[('Flexjet', 'PROPN', 'compound', 'owners'), ('owners', 'NOUN', 'pobj', 'of'), ('PrivateFly', 'ADJ', 'amod', 'clients'), ('clients', 'NOUN', 'conj', 'owners'), ('starting', 'VERB', 'ccomp', 'added'), ('fly', 'VERB', 'xcomp', 'starting'), ('business', 'NOUN', 'pobj', 'for'), ('witnessing', 'VERB', 'conj', 'starting'), ('release', 'NOUN', 'dobj', 'witnessing'), ('pent', 'VERB', 'amod', 'demand'), ('demand', 'NOUN', 'pobj', 'of'), ('person', 'NOUN', 'pobj', 'in'), ('meetings', 'NOUN', 'pobj', 'for'), ('added', 'VERB', 'ROOT', 'added')]\n",
            "[('senior', 'ADJ', 'amod', 'executives'), ('executives', 'NOUN', 'dobj', 'have'), ('entrepreneurs', 'NOUN', 'conj', 'executives'), ('sectors', 'NOUN', 'pobj', 'in'), ('finance', 'NOUN', 'pobj', 'as'), ('technology', 'NOUN', 'conj', 'finance'), ('booking', 'VERB', 'advcl', 'have'), ('multiple', 'ADJ', 'amod', 'itineraries'), ('itineraries', 'NOUN', 'dobj', 'booking'), ('investment', 'NOUN', 'compound', 'targets'), ('targets', 'NOUN', 'dobj', 'see'), ('site', 'NOUN', 'compound', 'visits'), ('visits', 'NOUN', 'dobj', 'make')]\n",
            "[('easing', 'NOUN', 'nsubj', 'adding'), ('ban', 'NOUN', 'pobj', 'of'), ('UK', 'PROPN', 'nmod', 'travellers'), ('European', 'ADJ', 'conj', 'UK'), ('travellers', 'NOUN', 'pobj', 'on'), ('November', 'PROPN', 'pobj', 'from'), ('adding', 'VERB', 'ROOT', 'adding'), ('unusually', 'ADV', 'advmod', 'high'), ('high', 'ADJ', 'amod', 'demand'), ('demand', 'NOUN', 'pobj', 'to'), ('final', 'ADJ', 'amod', 'quarter'), ('quarter', 'NOUN', 'pobj', 'in'), ('year', 'NOUN', 'pobj', 'of')]\n",
            "[('early', 'ADJ', 'amod', 'stages'), ('stages', 'NOUN', 'pobj', 'During'), ('pandemic', 'ADJ', 'amod', 'people'), ('wealthy', 'ADJ', 'amod', 'people'), ('people', 'NOUN', 'pobj', 'of'), ('turned', 'VERB', 'ROOT', 'turned'), ('chartering', 'VERB', 'pcomp', 'to'), ('private', 'ADJ', 'amod', 'jets'), ('jets', 'NOUN', 'dobj', 'chartering'), ('evacuation', 'NOUN', 'compound', 'flights'), ('flights', 'NOUN', 'pobj', 'for'), ('countries', 'NOUN', 'pobj', 'of'), ('hit', 'VERB', 'acl', 'countries'), ('coronavirus', 'NOUN', 'compound', 'outbreak'), ('outbreak', 'NOUN', 'pobj', 'by')]\n",
            "[('Private', 'ADJ', 'amod', 'jets'), ('jets', 'NOUN', 'nsubj', 'emit'), ('emit', 'VERB', 'ROOT', 'emit'), ('20', 'NUM', 'npadvmod', 'more'), ('times', 'NOUN', 'quantmod', '20'), ('carbon', 'NOUN', 'compound', 'dioxide'), ('dioxide', 'NOUN', 'dobj', 'emit'), ('passenger', 'NOUN', 'compound', 'mile'), ('mile', 'NOUN', 'pobj', 'per'), ('commercial', 'ADJ', 'amod', 'flights'), ('flights', 'NOUN', 'pobj', 'than'), ('according', 'VERB', 'prep', 'emit'), ('industry', 'NOUN', 'compound', 'data'), ('data', 'NOUN', 'pobj', 'to')]\n",
            "[('Brian', 'PROPN', 'compound', 'Foley'), ('Foley', 'PROPN', 'nsubj', 'said'), ('aviation', 'NOUN', 'compound', 'analyst'), ('analyst', 'NOUN', 'appos', 'Foley'), ('said', 'VERB', 'ROOT', 'said'), ('demand', 'NOUN', 'nsubj', 'started'), ('private', 'ADJ', 'amod', 'flights'), ('jet', 'NOUN', 'compound', 'flights'), ('flights', 'NOUN', 'pobj', 'for'), ('started', 'VERB', 'ccomp', 'said'), ('feed', 'VERB', 'xcomp', 'started'), ('increased', 'VERB', 'amod', 'orders'), ('orders', 'NOUN', 'pobj', 'to'), ('new', 'ADJ', 'amod', 'construction'), ('plane', 'NOUN', 'compound', 'construction'), ('construction', 'NOUN', 'pobj', 'for'), ('decline', 'NOUN', 'pobj', 'after'), ('2020', 'NUM', 'pobj', 'in'), ('annual', 'ADJ', 'amod', 'fall'), ('fall', 'NOUN', 'attr', 'was'), ('new', 'ADJ', 'amod', 'deliveries'), ('jet', 'NOUN', 'compound', 'deliveries'), ('deliveries', 'NOUN', 'pobj', 'in'), ('decade', 'NOUN', 'pobj', 'in')]\n",
            "[('Foley', 'PROPN', 'nsubj', 'said'), ('said', 'VERB', 'ROOT', 'said'), ('demand', 'NOUN', 'nsubjpass', 'driven'), ('driven', 'VERB', 'ccomp', 'said'), ('heeled', 'ADJ', 'amod', 'travellers'), ('travellers', 'NOUN', 'pobj', 'by'), ('look[ing', 'VERB', 'advcl', 'driven'), ('alternatives', 'NOUN', 'pobj', 'for'), ('airlines', 'NOUN', 'poss', 'terminals'), ('crowded', 'ADJ', 'amod', 'terminals'), ('terminals', 'NOUN', 'pobj', 'to'), ('shoehorned', 'VERB', 'conj', 'driven'), ('middle', 'ADJ', 'amod', 'seat'), ('seat', 'NOUN', 'pobj', 'into'), ('strangers', 'NOUN', 'pobj', 'to')]\n",
            "[('looking', 'VERB', 'ROOT', 'looking'), ('private', 'ADJ', 'amod', 'charter'), ('jet', 'NOUN', 'compound', 'charter'), ('charter', 'NOUN', 'pobj', 'to'), ('fractional', 'ADJ', 'amod', 'ownership'), ('ownership', 'NOUN', 'conj', 'charter'), ('avoid', 'VERB', 'advcl', 'looking'), ('mosh', 'NOUN', 'compound', 'pit'), ('pit', 'NOUN', 'dobj', 'avoid')]\n",
            "[('Objective', 'ADJ', 'amod', 'data'), ('data', 'NOUN', 'nsubj', 'showed'), ('showed', 'VERB', 'ROOT', 'showed'), ('business', 'NOUN', 'compound', 'jet'), ('jet', 'NOUN', 'compound', 'travel'), ('travel', 'NOUN', 'nsubj', 'climbing'), ('quickly', 'ADV', 'advmod', 'climbing'), ('climbing', 'VERB', 'ccomp', 'showed'), ('pre', 'ADJ', 'amod', 'levels'), ('pandemic', 'ADJ', 'amod', 'levels'), ('levels', 'NOUN', 'pobj', 'toward'), ('airlines', 'NOUN', 'nsubj', 'continued'), ('continued', 'VERB', 'advcl', 'climbing'), ('languish', 'VERB', 'xcomp', 'continued')]\n",
            "[('Foley', 'PROPN', 'nsubj', 'said'), ('said', 'VERB', 'ROOT', 'said'), ('big', 'ADJ', 'amod', 'manufacturers'), ('private', 'ADJ', 'amod', 'manufacturers'), ('jet', 'NOUN', 'compound', 'manufacturers'), ('manufacturers', 'NOUN', 'nsubj', 'reporting'), ('reporting', 'VERB', 'ccomp', 'said'), ('twice', 'ADV', 'advmod', 'many'), ('orders', 'NOUN', 'dobj', 'reporting'), ('jets', 'NOUN', 'pobj', 'for'), ('number', 'NOUN', 'pobj', 'as'), ('currently', 'ADV', 'advmod', 'producing'), ('producing', 'VERB', 'relcl', 'number'), ('leading', 'VERB', 'advcl', 'reporting'), ('meaningful', 'ADJ', 'amod', 'up'), ('ramp', 'NOUN', 'compound', 'up'), ('production', 'NOUN', 'compound', 'capabilities'), ('capabilities', 'NOUN', 'pobj', 'in')]\n",
            "[('aeroplane', 'NOUN', 'compound', 'production'), ('production', 'NOUN', 'nsubjpass', 'increased'), ('increased', 'VERB', 'advcl', 'be'), ('flip', 'NOUN', 'pobj', 'with'), ('switch', 'NOUN', 'nmod', 'deliveries'), ('overall', 'ADJ', 'amod', 'deliveries'), ('2021', 'NUM', 'nummod', 'deliveries'), ('deliveries', 'NOUN', 'pobj', 'of'), ('wo', 'AUX', 'aux', 'be'), ('different', 'ADJ', 'acomp', 'be'), ('previous', 'ADJ', 'amod', 'years'), ('years', 'NOUN', 'pobj', 'from'), ('past', 'ADJ', 'amod', 'decade'), ('decade', 'NOUN', 'pobj', 'over'), ('said', 'VERB', 'ROOT', 'said')]\n",
            "[('OEMs', 'PROPN', 'nmod', 'manufacturers'), ('original', 'ADJ', 'amod', 'manufacturers'), ('equipment', 'NOUN', 'compound', 'manufacturers'), ('manufacturers', 'NOUN', 'pobj', 'as'), ('gain', 'VERB', 'ROOT', 'gain'), ('confidence', 'NOUN', 'dobj', 'gain'), ('increased', 'VERB', 'amod', 'demand'), ('demand', 'NOUN', 'nsubj', 'is'), ('real', 'ADJ', 'acomp', 'is'), ('crank', 'VERB', 'conj', 'gain'), ('planes', 'NOUN', 'dobj', 'crank'), ('risk', 'NOUN', 'pobj', 'without'), ('unsold', 'ADJ', 'amod', 'units'), ('units', 'NOUN', 'pobj', 'of'), ('expensive', 'ADJ', 'amod', 'ornaments'), ('lawn', 'NOUN', 'compound', 'ornaments'), ('ornaments', 'NOUN', 'attr', 'becoming'), ('spin', 'NOUN', 'compound', 'up'), ('pronounced', 'ADJ', 'acomp', 'become')]\n",
            "[('consultancy', 'NOUN', 'nsubj', 'predicted'), ('Brian', 'PROPN', 'compound', 'Associates'), ('Foley', 'PROPN', 'compound', 'Associates'), ('Associates', 'PROPN', 'appos', 'consultancy'), ('predicted', 'VERB', 'ROOT', 'predicted'), ('700', 'NUM', 'nummod', 'jets'), ('new', 'ADJ', 'amod', 'jets'), ('private', 'ADJ', 'amod', 'jets'), ('jets', 'NOUN', 'nsubjpass', 'delivered'), ('delivered', 'VERB', 'ccomp', 'predicted'), ('2021', 'NUM', 'pobj', 'in'), ('roughly', 'ADV', 'advmod', 'same'), ('previous', 'ADJ', 'amod', 'years'), ('years', 'NOUN', 'pobj', 'as')]\n",
            "[('said', 'VERB', 'ROOT', 'said'), ('meaningful', 'ADJ', 'amod', 'up'), ('ramp', 'NOUN', 'compound', 'up'), ('begin', 'VERB', 'ccomp', 'said'), ('2022', 'NUM', 'pobj', 'in'), ('continue', 'VERB', 'conj', 'begin'), ('unabated', 'ADJ', 'acomp', 'continue'), ('years', 'NOUN', 'pobj', 'for'), ('easily', 'ADV', 'advmod', 'surpassing'), ('surpassing', 'VERB', 'advcl', 'continue'), ('900', 'NUM', 'nummod', 'unit'), ('unit', 'NOUN', 'compound', 'level'), ('level', 'NOUN', 'dobj', 'surpassing'), ('time', 'NOUN', 'pobj', 'for'), ('2007', 'NUM', 'pobj', 'since')]\n"
          ]
        }
      ]
    },
    {
      "cell_type": "code",
      "source": [
        "G = nx.DiGraph()\n",
        "\n",
        "l = []\n",
        "\n",
        "# Add edges to the graph\n",
        "for i in range(len(teste)):\n",
        "  for source, pos, dep, target in teste[i]:\n",
        "      G.add_edge(source, target, label=dep)\n",
        "\n",
        "  # Find all weakly connected components in the graph\n",
        "  components = list(nx.weakly_connected_components(G))\n",
        "  l.append(components)"
      ],
      "metadata": {
        "id": "M35Kh09hCbrm"
      },
      "execution_count": null,
      "outputs": []
    },
    {
      "cell_type": "code",
      "source": [
        "#l"
      ],
      "metadata": {
        "id": "uLdT91zoIhgJ"
      },
      "execution_count": null,
      "outputs": []
    },
    {
      "cell_type": "code",
      "source": [
        "G = nx.DiGraph()\n",
        "\n",
        "l = []\n",
        "\n",
        "# Add edges to the graph\n",
        "for sentence in teste:\n",
        "  for source, pos, dep, target in sentence:\n",
        "      G.add_edge(source, target, label=dep)\n",
        "\n",
        "  # Find all weakly connected components in the graph\n",
        "  components = list(nx.weakly_connected_components(G))\n",
        "  # Keep only components with more than one word\n",
        "  filtered_components = [component for component in components if len(component) > 1]\n",
        "  l.append(filtered_components)\n",
        "\n",
        "filtered_list = [component for sublist in l for component in sublist if len(component) > 1]"
      ],
      "metadata": {
        "id": "fDyjdUDdeSwm"
      },
      "execution_count": null,
      "outputs": []
    },
    {
      "cell_type": "code",
      "source": [
        "#df.iloc[0].content"
      ],
      "metadata": {
        "id": "NU9UIPlKIHBp"
      },
      "execution_count": null,
      "outputs": []
    },
    {
      "cell_type": "code",
      "source": [
        "#filtered_list"
      ],
      "metadata": {
        "id": "0sUJWu4XVmdF"
      },
      "execution_count": null,
      "outputs": []
    },
    {
      "cell_type": "code",
      "source": [
        "# Create a directed graph\n",
        "G = nx.DiGraph()\n",
        "\n",
        "# First, create a dictionary to map words to their dependencies\n",
        "dep_map = {word: dep for word, pos, dep, head in teste[2]}\n",
        "\n",
        "# Add edges to the graph and add node attributes for POS, Dependency, Head, and Head Dependency\n",
        "for source, pos, dep, target in teste[2]:\n",
        "    head_dep = dep_map.get(target, 'N/A')\n",
        "    G.add_node(source, pos=pos, dep=dep, head=target, head_dep=head_dep)\n",
        "    G.add_node(target)  # Ensure the target node is also added\n",
        "    G.add_edge(source, target, label=dep)\n",
        "\n",
        "# Function to get node attributes\n",
        "def get_node_attributes(graph, node):\n",
        "    pos = graph.nodes[node].get('pos', 'N/A')\n",
        "    dep = graph.nodes[node].get('dep', 'N/A')\n",
        "    head = graph.nodes[node].get('head', 'N/A')\n",
        "    return pos, dep, head\n",
        "\n",
        "# Find all weakly connected components in the graph\n",
        "components = list(nx.weakly_connected_components(G))\n",
        "\n",
        "components_infos = []\n",
        "# Print each component with node attributes\n",
        "for component in components:\n",
        "    component_info = []\n",
        "    for node in component:\n",
        "        pos, dep, head= get_node_attributes(G, node)\n",
        "        component_info.append((node, pos, dep, head))\n",
        "    components_infos.append(component_info)\n",
        "\n",
        "components_infos"
      ],
      "metadata": {
        "colab": {
          "base_uri": "https://localhost:8080/"
        },
        "id": "81djHKJ6os0y",
        "outputId": "a8e20cfb-6587-4872-ae56-d0a60cf27c18"
      },
      "execution_count": null,
      "outputs": [
        {
          "output_type": "execute_result",
          "data": {
            "text/plain": [
              "[[('said', 'VERB', 'ROOT', 'said'),\n",
              "  ('Flexjet', 'PROPN', 'nsubj', 'said'),\n",
              "  ('usual', 'ADJ', 'amod', 'trends'),\n",
              "  ('seasonal', 'ADJ', 'amod', 'trends'),\n",
              "  ('flights', 'NOUN', 'dobj', 'operated'),\n",
              "  ('ownership', 'NOUN', 'dobj', 'offers'),\n",
              "  ('operated', 'VERB', 'ccomp', 'said'),\n",
              "  ('offers', 'VERB', 'relcl', 'Flexjet'),\n",
              "  ('shared', 'VERB', 'amod', 'ownership'),\n",
              "  ('bucking', 'VERB', 'advcl', 'operated'),\n",
              "  ('trends', 'NOUN', 'dobj', 'bucking')],\n",
              " [('September', 'PROPN', 'pobj', 'in'),\n",
              "  ('fleet', 'NOUN', 'pobj', 'in'),\n",
              "  ('Europe', 'PROPN', 'pobj', 'in'),\n",
              "  ('in', 'N/A', 'N/A', 'N/A')],\n",
              " [('private', 'ADJ', 'amod', 'jets'),\n",
              "  ('jets', 'NOUN', 'pobj', 'of'),\n",
              "  ('of', 'N/A', 'N/A', 'N/A')],\n",
              " [('%', 'N/A', 'N/A', 'N/A'), ('53', 'NUM', 'nummod', '%')],\n",
              " [('previous', 'ADJ', 'amod', 'month'),\n",
              "  ('month', 'NOUN', 'pobj', 'than'),\n",
              "  ('than', 'N/A', 'N/A', 'N/A')]]"
            ]
          },
          "metadata": {},
          "execution_count": 51
        }
      ]
    },
    {
      "cell_type": "code",
      "source": [
        "# Function to get node attributes\n",
        "def get_node_attributes(graph, node):\n",
        "    pos = graph.nodes[node].get('pos', 'N/A')\n",
        "    dep = graph.nodes[node].get('dep', 'N/A')\n",
        "    head = graph.nodes[node].get('head', 'N/A')\n",
        "    return pos, dep, head\n",
        "\n",
        "def xx(text):\n",
        "  li = []\n",
        "  for i in range(len(text)):\n",
        "  # Create a directed graph\n",
        "    G = nx.DiGraph()\n",
        "\n",
        "    # First, create a dictionary to map words to their dependencies\n",
        "    dep_map = {word: dep for word, pos, dep, head in text[i]}\n",
        "\n",
        "    # Add edges to the graph and add node attributes for POS, Dependency, Head, and Head Dependency\n",
        "    for source, pos, dep, target in teste[i]:\n",
        "        head_dep = dep_map.get(target, 'N/A')\n",
        "        G.add_node(source, pos=pos, dep=dep, head=target, head_dep=head_dep)\n",
        "        G.add_node(target)  # Ensure the target node is also added\n",
        "        G.add_edge(source, target, label=dep)\n",
        "\n",
        "    # Find all weakly connected components in the graph\n",
        "    components = list(nx.weakly_connected_components(G))\n",
        "\n",
        "    components_infos = []\n",
        "    # Print each component with node attributes\n",
        "    for component in components:\n",
        "        component_info = []\n",
        "        for node in component:\n",
        "            pos, dep, head= get_node_attributes(G, node)\n",
        "            component_info.append((node, pos, dep, head))\n",
        "        components_infos.append(component_info)\n",
        "\n",
        "    li.append(components_infos)\n",
        "  return li"
      ],
      "metadata": {
        "id": "19CUKEbTI8Dy"
      },
      "execution_count": null,
      "outputs": []
    },
    {
      "cell_type": "code",
      "source": [
        "#xx(teste)"
      ],
      "metadata": {
        "id": "iZWlWso-LJ7O"
      },
      "execution_count": null,
      "outputs": []
    },
    {
      "cell_type": "code",
      "source": [
        "#df.iloc[0].content"
      ],
      "metadata": {
        "id": "X5daLbXLT_Q_"
      },
      "execution_count": null,
      "outputs": []
    },
    {
      "cell_type": "code",
      "source": [
        "#components_infos[0]"
      ],
      "metadata": {
        "id": "uUPE0v7BWt04"
      },
      "execution_count": null,
      "outputs": []
    },
    {
      "cell_type": "code",
      "source": [
        "\n",
        "subjects_adj = []\n",
        "verbs_adj = []\n",
        "obejctts_adj = []\n",
        "svo = []\n",
        "\n",
        "subject = ''\n",
        "verb = ''\n",
        "objectt = ''\n",
        "\n",
        "svo = ()\n",
        "for word, pos, dep, head in components_infos[0]:\n",
        "    if (pos == 'NOUN' or pos == 'PROPN' or pos == 'PRON') and (dep == 'nsubj' or dep == 'nsubjpass'):\n",
        "        subject = word\n",
        "    if pos == 'VERB' and dep == 'ROOT':\n",
        "        verb = word\n",
        "    if pos == 'NOUN' and (dep == 'dobj' or dep == 'iobj' or dep =='pobj'):\n",
        "        objectt = word\n",
        "\n",
        "if verb == '':\n",
        "  for word, pos, dep, head in components_infos[0]:\n",
        "      if pos == 'VERB':\n",
        "        verb = word\n",
        "\n",
        "if subject == '':\n",
        "  for word, pos, dep, head in components_infos[0]:\n",
        "    if pos == 'NOUN' and (dep == 'pobj'):\n",
        "      subject = word\n",
        "    if pos == 'NOUN' and (dep == 'dobj'):\n",
        "      objectt = word\n",
        "\n",
        "\n",
        "for word, pos, dep, head in components_infos[0]:\n",
        "  if head ==  subject and head != word and pos != 'VERB':\n",
        "    subjects_adj.append(word)\n",
        "  if (head ==  objectt and head != word) or (pos == 'NOUN' and dep == 'dobj' and word != objectt):\n",
        "    obejctts_adj.append(word)\n",
        "  if head == verb and dep not in ('nsubj', 'dobj') and head != word:\n",
        "    verbs_adj.append(word)\n",
        "\n",
        "if subjects_adj:\n",
        "  merged_subject = \" \".join(subjects_adj) + \" \" + subject\n",
        "else:\n",
        "  merged_subject = subject\n",
        "if verbs_adj:\n",
        "  merged_verbs = verb + \" \" + \" \".join(verbs_adj)\n",
        "else:\n",
        "  merged_verbs = verb\n",
        "if obejctts_adj:\n",
        "  merged_objects = \" \".join(obejctts_adj) + \" \" + objectt\n",
        "else:\n",
        "  merged_objects = objectt\n",
        "\n",
        "svo = (merged_subject, merged_verbs, merged_objects)\n",
        "print(svo)"
      ],
      "metadata": {
        "colab": {
          "base_uri": "https://localhost:8080/"
        },
        "id": "bRdsXi3dWhBt",
        "outputId": "3fa876b7-e7ea-4703-de04-2fc5abc812f0"
      },
      "execution_count": null,
      "outputs": [
        {
          "output_type": "stream",
          "name": "stdout",
          "text": [
            "('Flexjet', 'said operated', 'usual seasonal flights ownership trends')\n"
          ]
        }
      ]
    },
    {
      "cell_type": "code",
      "source": [
        "def yy(component_info):\n",
        "\n",
        "  svos = []\n",
        "\n",
        "  for i in range(len(component_info)):\n",
        "\n",
        "    subjects_adj = []\n",
        "    verbs_adj = []\n",
        "    obejctts_adj = []\n",
        "    svo = []\n",
        "\n",
        "    subject = ''\n",
        "    verb = ''\n",
        "    objectt = ''\n",
        "\n",
        "    svo = ()\n",
        "\n",
        "\n",
        "    for word, pos, dep, head in component_info[i]:\n",
        "        if (pos == 'NOUN' or pos == 'PROPN' or pos == 'PRON') and (dep == 'nsubj' or dep == 'nsubjpass'):\n",
        "            subject = word\n",
        "        if pos == 'VERB' and dep == 'ROOT':\n",
        "            verb = word\n",
        "        if pos == 'NOUN' and (dep == 'dobj' or dep == 'iobj' or dep =='pobj'):\n",
        "            objectt = word\n",
        "\n",
        "    if verb == '':\n",
        "      for word, pos, dep, head in component_info[i]:\n",
        "          if pos == 'VERB':\n",
        "            verb = word\n",
        "\n",
        "    if subject == '':\n",
        "      for word, pos, dep, head in component_info[i]:\n",
        "        if pos == 'NOUN' and (dep == 'pobj'):\n",
        "          subject = word\n",
        "        if pos == 'NOUN' and (dep == 'dobj'):\n",
        "          objectt = word\n",
        "\n",
        "    if verb != '':\n",
        "\n",
        "      for word, pos, dep, head in component_info[i]:\n",
        "        if head ==  subject and head != word and pos != 'VERB':\n",
        "          subjects_adj.append(word)\n",
        "        if (head ==  objectt and head != word) or (pos == 'NOUN' and dep == 'dobj' and word != objectt):\n",
        "          obejctts_adj.append(word)\n",
        "        if head == verb and dep not in ('nsubj', 'dobj') and head != word:\n",
        "          verbs_adj.append(word)\n",
        "\n",
        "      if subjects_adj:\n",
        "        merged_subject = \" \".join(subjects_adj) + \" \" + subject\n",
        "      else:\n",
        "        merged_subject = subject\n",
        "      if verbs_adj:\n",
        "        merged_verbs = verb + \" \" + \" \".join(verbs_adj)\n",
        "      else:\n",
        "        merged_verbs = verb\n",
        "      if obejctts_adj:\n",
        "        merged_objects = \" \".join(obejctts_adj) + \" \" + objectt\n",
        "      else:\n",
        "        merged_objects = objectt\n",
        "\n",
        "      svo = (merged_subject, merged_verbs, merged_objects)\n",
        "\n",
        "      svos.append(svo)\n",
        "\n",
        "  return svos"
      ],
      "metadata": {
        "id": "ZWzMa2OHOiRY"
      },
      "execution_count": null,
      "outputs": []
    },
    {
      "cell_type": "code",
      "source": [
        "yy(components_infos)"
      ],
      "metadata": {
        "colab": {
          "base_uri": "https://localhost:8080/"
        },
        "id": "j_tcbG28PQxx",
        "outputId": "57f8c308-618a-4635-d071-f9589f478a57"
      },
      "execution_count": null,
      "outputs": [
        {
          "output_type": "execute_result",
          "data": {
            "text/plain": [
              "[('Flexjet', 'said operated', 'usual seasonal flights ownership trends')]"
            ]
          },
          "metadata": {},
          "execution_count": 58
        }
      ]
    },
    {
      "cell_type": "code",
      "source": [
        "df.iloc[0].content"
      ],
      "metadata": {
        "id": "xvMdFPhKRMFu",
        "outputId": "ecda721d-3b8b-45d5-ad05-a1b4abcad640",
        "colab": {
          "base_uri": "https://localhost:8080/",
          "height": 123
        }
      },
      "execution_count": null,
      "outputs": [
        {
          "output_type": "execute_result",
          "data": {
            "text/plain": [
              "'Private jet providers are experiencing “unprecedented demand” from wealthy customers seeking to avoid the “mosh pit” of commercial flights on autumn getaways as coronavirus travel restrictions ease. Flexjet and PrivateFly, which supply private jets to rich families and business executives, said they were “experiencing exceptionally strong demand” for September and October travel at a time of year when bookings normally fall away. Flexjet, which offers shared ownership in its fleet of private jets in Europe, said it operated 53% more flights in September than the previous month, bucking the usual seasonal trends. Marine Eugène, the European managing director of Flexjet and PrivateFly, said: “Our industry in Europe traditionally sees a significant peak in July and August, followed by a tailing off in September – but not this year. “We are currently experiencing exceptionally strong demand, with the appetite for personal travel not yet sated after a later start to summer due to restrictions, and now business flying is also taking off alongside.” Eugène said the UK government’s relaxation of travel restrictions from 4 October and the US relaxation of rules for vaccinated European visitors propelled the demand for increased private jet flights, with wealthy travellers continuing to make plans for short breaks or holidays by private jet into the autumn period and later than usually seen. She said business destinations such as Paris, Zurich, Munich, and Amsterdam had climbed back into the top 10 list of European destinations, which were previously dominated by holiday hotspots. “Many of our Flexjet owners and PrivateFly clients are starting to fly for business again and we are witnessing a release of pent-up demand for in-person meetings,” she added. “We have senior executives and entrepreneurs in sectors such as finance and technology, booking multiple itineraries to see investment targets, or make site visits. “The US easing of its ban on UK and European travellers from November is also adding to the unusually high demand in the final quarter of the year.” During the early stages of the pandemic, wealthy people had turned to chartering private jets for “evacuation flights” out of countries hit by the coronavirus outbreak. Private jets emit about 20 times more carbon dioxide per passenger mile than commercial flights, according to industry data. Brian Foley, an aviation analyst, said demand for private jet flights had started to feed through to increased orders for new plane construction after a decline in 2020 that was the first annual fall in new jet deliveries in more than a decade. Foley said the demand was being driven by “well-heeled travellers look[ing] for alternatives to the airlines’ crowded terminals and being shoehorned into a middle seat next to strangers”. “[They are] looking to private jet charter or fractional ownership to avoid the mosh pit. Objective data showed business jet travel quickly climbing back toward pre-pandemic levels, while airlines continued to languish.” Foley said the big private jet manufacturers were reporting twice as many orders for jets as the number they were currently producing, leading to “meaningful ramp-up” in production capabilities. “Since aeroplane production can’t be increased with the flip of a switch, overall 2021 deliveries won’t be all that different from previous years over the past decade,” he said. “However, as OEMs [original equipment manufacturers] gain confidence that the increased demand is real, and that they can crank out more planes without the risk of unsold units becoming expensive lawn ornaments, the spin-up will become more pronounced.” His consultancy, Brian Foley Associates, has predicted that about 700 new private jets will be delivered in 2021 – roughly the same as previous years. However, he said a “meaningful ramp-up will begin in 2022 and continue unabated for several years, easily surpassing the 900-unit level for the first time since 2007”.'"
            ],
            "application/vnd.google.colaboratory.intrinsic+json": {
              "type": "string"
            }
          },
          "metadata": {},
          "execution_count": 59
        }
      ]
    },
    {
      "cell_type": "code",
      "source": [
        "components_infos"
      ],
      "metadata": {
        "colab": {
          "base_uri": "https://localhost:8080/"
        },
        "id": "aSyd0mFdQ28N",
        "outputId": "b2b9231b-60ba-42ff-ee0c-a9eeb412f6dd"
      },
      "execution_count": null,
      "outputs": [
        {
          "output_type": "execute_result",
          "data": {
            "text/plain": [
              "[[('said', 'VERB', 'ROOT', 'said'),\n",
              "  ('Flexjet', 'PROPN', 'nsubj', 'said'),\n",
              "  ('usual', 'ADJ', 'amod', 'trends'),\n",
              "  ('seasonal', 'ADJ', 'amod', 'trends'),\n",
              "  ('flights', 'NOUN', 'dobj', 'operated'),\n",
              "  ('ownership', 'NOUN', 'dobj', 'offers'),\n",
              "  ('operated', 'VERB', 'ccomp', 'said'),\n",
              "  ('offers', 'VERB', 'relcl', 'Flexjet'),\n",
              "  ('shared', 'VERB', 'amod', 'ownership'),\n",
              "  ('bucking', 'VERB', 'advcl', 'operated'),\n",
              "  ('trends', 'NOUN', 'dobj', 'bucking')],\n",
              " [('September', 'PROPN', 'pobj', 'in'),\n",
              "  ('fleet', 'NOUN', 'pobj', 'in'),\n",
              "  ('Europe', 'PROPN', 'pobj', 'in'),\n",
              "  ('in', 'N/A', 'N/A', 'N/A')],\n",
              " [('private', 'ADJ', 'amod', 'jets'),\n",
              "  ('jets', 'NOUN', 'pobj', 'of'),\n",
              "  ('of', 'N/A', 'N/A', 'N/A')],\n",
              " [('%', 'N/A', 'N/A', 'N/A'), ('53', 'NUM', 'nummod', '%')],\n",
              " [('previous', 'ADJ', 'amod', 'month'),\n",
              "  ('month', 'NOUN', 'pobj', 'than'),\n",
              "  ('than', 'N/A', 'N/A', 'N/A')]]"
            ]
          },
          "metadata": {},
          "execution_count": 60
        }
      ]
    },
    {
      "cell_type": "code",
      "source": [
        "# Initialize empty dictionaries to hold adjectives and adverbs related to subjects and objects\n",
        "subject_modifiers = {}\n",
        "object_modifiers = {}\n",
        "\n",
        "# Identify the subject and object of the sentence\n",
        "subject = None\n",
        "objects = []\n",
        "\n",
        "for word, pos, dep, head in components_infos:\n",
        "    if dep == 'nsubj':\n",
        "        subject = head\n",
        "        subject_modifiers[head] = []\n",
        "    elif dep in ('dobj', 'pobj'):\n",
        "        objects.append(head)\n",
        "        object_modifiers[head] = []\n",
        "\n",
        "# Extract adjectives and adverbs related to the subject and objects\n",
        "for word, pos, dep, head in sentencetest:\n",
        "    if dep in ('amod', 'compound') and head in subject_modifiers:\n",
        "        subject_modifiers[head].append(word)\n",
        "    elif dep in ('amod', 'compound') and head in object_modifiers:\n",
        "        object_modifiers[head].append(word)\n",
        "\n",
        "# Output the results\n",
        "print(\"Subject Modifiers:\")\n",
        "for subj, modifiers in subject_modifiers.items():\n",
        "    print(f\"{subj}: {modifiers}\")\n",
        "\n",
        "print(\"\\nObject Modifiers:\")\n",
        "for obj, modifiers in object_modifiers.items():\n",
        "    print(f\"{obj}: {modifiers}\")"
      ],
      "metadata": {
        "id": "XpX30mLKWEga",
        "colab": {
          "base_uri": "https://localhost:8080/",
          "height": 211
        },
        "outputId": "c20f0179-d0a8-46c6-d621-9cc945a885a0"
      },
      "execution_count": null,
      "outputs": [
        {
          "output_type": "error",
          "ename": "ValueError",
          "evalue": "too many values to unpack (expected 4)",
          "traceback": [
            "\u001b[0;31m---------------------------------------------------------------------------\u001b[0m",
            "\u001b[0;31mValueError\u001b[0m                                Traceback (most recent call last)",
            "\u001b[0;32m<ipython-input-61-df0f998fb3a0>\u001b[0m in \u001b[0;36m<cell line: 9>\u001b[0;34m()\u001b[0m\n\u001b[1;32m      7\u001b[0m \u001b[0mobjects\u001b[0m \u001b[0;34m=\u001b[0m \u001b[0;34m[\u001b[0m\u001b[0;34m]\u001b[0m\u001b[0;34m\u001b[0m\u001b[0;34m\u001b[0m\u001b[0m\n\u001b[1;32m      8\u001b[0m \u001b[0;34m\u001b[0m\u001b[0m\n\u001b[0;32m----> 9\u001b[0;31m \u001b[0;32mfor\u001b[0m \u001b[0mword\u001b[0m\u001b[0;34m,\u001b[0m \u001b[0mpos\u001b[0m\u001b[0;34m,\u001b[0m \u001b[0mdep\u001b[0m\u001b[0;34m,\u001b[0m \u001b[0mhead\u001b[0m \u001b[0;32min\u001b[0m \u001b[0mcomponents_infos\u001b[0m\u001b[0;34m:\u001b[0m\u001b[0;34m\u001b[0m\u001b[0;34m\u001b[0m\u001b[0m\n\u001b[0m\u001b[1;32m     10\u001b[0m     \u001b[0;32mif\u001b[0m \u001b[0mdep\u001b[0m \u001b[0;34m==\u001b[0m \u001b[0;34m'nsubj'\u001b[0m\u001b[0;34m:\u001b[0m\u001b[0;34m\u001b[0m\u001b[0;34m\u001b[0m\u001b[0m\n\u001b[1;32m     11\u001b[0m         \u001b[0msubject\u001b[0m \u001b[0;34m=\u001b[0m \u001b[0mhead\u001b[0m\u001b[0;34m\u001b[0m\u001b[0;34m\u001b[0m\u001b[0m\n",
            "\u001b[0;31mValueError\u001b[0m: too many values to unpack (expected 4)"
          ]
        }
      ]
    },
    {
      "cell_type": "code",
      "source": [
        "def get_svos(sentence):\n",
        "  subjects = []\n",
        "  verbs = []\n",
        "  objects = []\n",
        "  svo = []\n",
        "\n",
        "  for item in sentence:\n",
        "    # adjectives of subejcts\n",
        "    if item[1] ==  'ADJ' and (item[4] == 'nsubj' or item[4] == 'nsubjpass'):\n",
        "      subjects.append(item[0])\n",
        "    if item[1] ==  'NOUN' and (item[4] == 'nsubj' or item[4] == 'nsubjpass'):\n",
        "      subjects.append(item[0])\n",
        "    # subjects\n",
        "    if item[1] == 'NOUN' and (item[2] == 'nsubj' or item[2] == 'nsubjpass'):\n",
        "      subjects.append(item[0])\n",
        "    # verbs\n",
        "    if item[1] == 'VERB':\n",
        "      verbs.append(item[0])\n",
        "    # adjectives of objects\n",
        "    if item[1] ==  'ADJ' and (item[4] == 'dobj' or item[4] == 'pobj'):\n",
        "      objects.append(item[0])\n",
        "    if item[1] ==  'NOUN' and (item[4] == 'dobj' or item[4] == 'pobj'):\n",
        "      subjects.append(item[0])\n",
        "    # objects\n",
        "    if item[1] == 'NOUN' and (item[2] == 'dobj' or item[2] == 'pobj'):\n",
        "      objects.append(item[0])\n",
        "  svo.extend([subjects, verbs, objects])\n",
        "  return svo"
      ],
      "metadata": {
        "id": "epQz--c2BN6F"
      },
      "execution_count": null,
      "outputs": []
    },
    {
      "cell_type": "code",
      "source": [
        "get_svos(components_infos[1])"
      ],
      "metadata": {
        "id": "Xn3Gu3t2BuVL"
      },
      "execution_count": null,
      "outputs": []
    },
    {
      "cell_type": "code",
      "source": [
        "get_svos(components_infos[0])"
      ],
      "metadata": {
        "id": "ylzfSWx_BTyP"
      },
      "execution_count": null,
      "outputs": []
    },
    {
      "cell_type": "code",
      "source": [
        "def extract_svo_triplet(dependencies):\n",
        "    subject_group = []\n",
        "    verb_group = []\n",
        "    object_group = []\n",
        "\n",
        "    # Identify the main subject, verb, and object\n",
        "    main_subject = None\n",
        "    main_verb = None\n",
        "    main_object = None\n",
        "\n",
        "    # Create a lookup for words referring to other words\n",
        "    ref_dict = {word: head for word, pos, dep, head in dependencies}\n",
        "\n",
        "    # Process each dependency to group related words\n",
        "    for word, pos, dep, head in dependencies:\n",
        "        if dep in {'nsubj', 'nsubjpass'}:\n",
        "            main_subject = word\n",
        "            subject_group.append((word, pos, dep, head))\n",
        "        elif dep == 'ROOT':\n",
        "            main_verb = word\n",
        "            verb_group.append((word, pos, dep, head))\n",
        "        elif dep in {'dobj', 'attr', 'prep', 'pobj'}:\n",
        "            main_object = word\n",
        "            object_group.append((word, pos, dep, head))\n",
        "        else:\n",
        "            if dep in {'amod', 'compound'}:\n",
        "                if head == main_subject:\n",
        "                    subject_group.append((word, pos, dep, head))\n",
        "                elif head == main_verb:\n",
        "                    verb_group.append((word, pos, dep, head))\n",
        "                elif head == main_object:\n",
        "                    object_group.append((word, pos, dep, head))\n",
        "\n",
        "    # Helper function to create phrases from groups\n",
        "    def create_phrase(group):\n",
        "        return ' '.join([word for word, pos, dep, head in sorted(group, key=lambda x: ref_dict.get(x[0], ''))])\n",
        "\n",
        "    # Create the subject, verb, and object phrases\n",
        "    subject_phrase = create_phrase(subject_group)\n",
        "    verb_phrase = create_phrase(verb_group)\n",
        "    object_phrase = create_phrase(object_group)\n",
        "\n",
        "    return (subject_phrase, verb_phrase, object_phrase)"
      ],
      "metadata": {
        "id": "buyKTxU2z8cw"
      },
      "execution_count": null,
      "outputs": []
    },
    {
      "cell_type": "code",
      "source": [
        "# Create a directed graph\n",
        "G = nx.DiGraph()\n",
        "\n",
        "# First, create a dictionary to map words to their dependencies\n",
        "dep_map = {word: dep for word, pos, dep, head in teste[0]}\n",
        "\n",
        "# Add edges to the graph and add node attributes for POS, Dependency, Head, and Head Dependency\n",
        "for source, pos, dep, target in teste[0]:\n",
        "    head_dep = dep_map.get(target, 'N/A')\n",
        "    G.add_node(source, pos=pos, dep=dep, head=target, head_dep=head_dep)\n",
        "    G.add_node(target)  # Ensure the target node is also added\n",
        "    G.add_edge(source, target, label=dep)\n",
        "\n",
        "# Function to get node attributes\n",
        "def get_node_attributes(graph, node):\n",
        "    pos = graph.nodes[node].get('pos', 'N/A')\n",
        "    return pos\n",
        "\n",
        "# Find all weakly connected components in the graph\n",
        "components = list(nx.weakly_connected_components(G))\n",
        "\n",
        "components_infos = []\n",
        "# Print each component with node attributes\n",
        "for component in components:\n",
        "    component_info = []\n",
        "    for node in component:\n",
        "        pos= get_node_attributes(G, node)\n",
        "        component_info.append((node, pos))\n",
        "    components_infos.append(component_info)\n",
        "\n",
        "components_infos"
      ],
      "metadata": {
        "colab": {
          "base_uri": "https://localhost:8080/"
        },
        "id": "dYqHLNtFkhtL",
        "outputId": "d5eed944-1aea-4818-b08e-5bdbaa5f8eb6"
      },
      "execution_count": null,
      "outputs": [
        {
          "output_type": "execute_result",
          "data": {
            "text/plain": [
              "[[('unprecedented', 'ADJ'),\n",
              "  ('Private', 'ADJ'),\n",
              "  ('experiencing', 'VERB'),\n",
              "  ('providers', 'NOUN'),\n",
              "  ('demand', 'NOUN'),\n",
              "  ('jet', 'NOUN')],\n",
              " [('avoid', 'VERB'),\n",
              "  ('customers', 'NOUN'),\n",
              "  ('wealthy', 'ADJ'),\n",
              "  ('mosh', 'PROPN'),\n",
              "  ('pit', 'NOUN'),\n",
              "  ('seeking', 'VERB'),\n",
              "  ('from', 'N/A')],\n",
              " [('flights', 'NOUN'), ('commercial', 'ADJ'), ('of', 'N/A')],\n",
              " [('getaways', 'NOUN'), ('autumn', 'NOUN'), ('on', 'N/A')],\n",
              " [('coronavirus', 'NOUN'),\n",
              "  ('travel', 'NOUN'),\n",
              "  ('ease', 'NOUN'),\n",
              "  ('restrictions', 'NOUN'),\n",
              "  ('as', 'N/A')]]"
            ]
          },
          "metadata": {},
          "execution_count": 64
        }
      ]
    },
    {
      "cell_type": "code",
      "source": [
        "teste"
      ],
      "metadata": {
        "colab": {
          "base_uri": "https://localhost:8080/"
        },
        "id": "DoMT0ue60wrx",
        "outputId": "90e64fc2-da78-4674-af27-06249fe02bea"
      },
      "execution_count": null,
      "outputs": [
        {
          "output_type": "execute_result",
          "data": {
            "text/plain": [
              "[[('Private', 'ADJ', 'amod', 'providers'),\n",
              "  ('jet', 'NOUN', 'compound', 'providers'),\n",
              "  ('providers', 'NOUN', 'nsubj', 'experiencing'),\n",
              "  ('experiencing', 'VERB', 'ROOT', 'experiencing'),\n",
              "  ('unprecedented', 'ADJ', 'amod', 'demand'),\n",
              "  ('demand', 'NOUN', 'dobj', 'experiencing'),\n",
              "  ('wealthy', 'ADJ', 'amod', 'customers'),\n",
              "  ('customers', 'NOUN', 'pobj', 'from'),\n",
              "  ('seeking', 'VERB', 'acl', 'customers'),\n",
              "  ('avoid', 'VERB', 'xcomp', 'seeking'),\n",
              "  ('mosh', 'PROPN', 'compound', 'pit'),\n",
              "  ('pit', 'NOUN', 'dobj', 'avoid'),\n",
              "  ('commercial', 'ADJ', 'amod', 'flights'),\n",
              "  ('flights', 'NOUN', 'pobj', 'of'),\n",
              "  ('autumn', 'NOUN', 'compound', 'getaways'),\n",
              "  ('getaways', 'NOUN', 'pobj', 'on'),\n",
              "  ('coronavirus', 'NOUN', 'compound', 'travel'),\n",
              "  ('travel', 'NOUN', 'compound', 'restrictions'),\n",
              "  ('restrictions', 'NOUN', 'compound', 'ease'),\n",
              "  ('ease', 'NOUN', 'pobj', 'as')],\n",
              " [('Flexjet', 'PROPN', 'nsubj', 'said'),\n",
              "  ('PrivateFly', 'PROPN', 'conj', 'Flexjet'),\n",
              "  ('supply', 'VERB', 'relcl', 'Flexjet'),\n",
              "  ('private', 'ADJ', 'amod', 'jets'),\n",
              "  ('jets', 'NOUN', 'dobj', 'supply'),\n",
              "  ('rich', 'ADJ', 'amod', 'families'),\n",
              "  ('families', 'NOUN', 'pobj', 'to'),\n",
              "  ('business', 'NOUN', 'compound', 'executives'),\n",
              "  ('executives', 'NOUN', 'conj', 'families'),\n",
              "  ('said', 'VERB', 'ROOT', 'said'),\n",
              "  ('experiencing', 'VERB', 'ccomp', 'said'),\n",
              "  ('exceptionally', 'ADV', 'advmod', 'strong'),\n",
              "  ('strong', 'ADJ', 'amod', 'demand'),\n",
              "  ('demand', 'NOUN', 'dobj', 'experiencing'),\n",
              "  ('September', 'PROPN', 'nmod', 'travel'),\n",
              "  ('October', 'PROPN', 'conj', 'September'),\n",
              "  ('travel', 'NOUN', 'pobj', 'for'),\n",
              "  ('time', 'NOUN', 'pobj', 'at'),\n",
              "  ('year', 'NOUN', 'pobj', 'of'),\n",
              "  ('bookings', 'NOUN', 'nsubj', 'fall'),\n",
              "  ('normally', 'ADV', 'advmod', 'fall'),\n",
              "  ('fall', 'VERB', 'relcl', 'time'),\n",
              "  ('away', 'ADV', 'advmod', 'fall')],\n",
              " [('Flexjet', 'PROPN', 'nsubj', 'said'),\n",
              "  ('offers', 'VERB', 'relcl', 'Flexjet'),\n",
              "  ('shared', 'VERB', 'amod', 'ownership'),\n",
              "  ('ownership', 'NOUN', 'dobj', 'offers'),\n",
              "  ('fleet', 'NOUN', 'pobj', 'in'),\n",
              "  ('private', 'ADJ', 'amod', 'jets'),\n",
              "  ('jets', 'NOUN', 'pobj', 'of'),\n",
              "  ('Europe', 'PROPN', 'pobj', 'in'),\n",
              "  ('said', 'VERB', 'ROOT', 'said'),\n",
              "  ('operated', 'VERB', 'ccomp', 'said'),\n",
              "  ('53', 'NUM', 'nummod', '%'),\n",
              "  ('flights', 'NOUN', 'dobj', 'operated'),\n",
              "  ('September', 'PROPN', 'pobj', 'in'),\n",
              "  ('previous', 'ADJ', 'amod', 'month'),\n",
              "  ('month', 'NOUN', 'pobj', 'than'),\n",
              "  ('bucking', 'VERB', 'advcl', 'operated'),\n",
              "  ('usual', 'ADJ', 'amod', 'trends'),\n",
              "  ('seasonal', 'ADJ', 'amod', 'trends'),\n",
              "  ('trends', 'NOUN', 'dobj', 'bucking')],\n",
              " [('Marine', 'PROPN', 'compound', 'Eugène'),\n",
              "  ('Eugène', 'PROPN', 'nsubj', 'said'),\n",
              "  ('European', 'ADJ', 'amod', 'director'),\n",
              "  ('managing', 'VERB', 'amod', 'director'),\n",
              "  ('director', 'NOUN', 'appos', 'Eugène'),\n",
              "  ('Flexjet', 'PROPN', 'pobj', 'of'),\n",
              "  ('PrivateFly', 'PROPN', 'conj', 'Flexjet'),\n",
              "  ('said', 'VERB', 'ROOT', 'said'),\n",
              "  ('industry', 'NOUN', 'nsubj', 'sees'),\n",
              "  ('Europe', 'PROPN', 'pobj', 'in'),\n",
              "  ('traditionally', 'ADV', 'advmod', 'sees'),\n",
              "  ('sees', 'VERB', 'ccomp', 'said'),\n",
              "  ('significant', 'ADJ', 'amod', 'peak'),\n",
              "  ('peak', 'NOUN', 'dobj', 'sees'),\n",
              "  ('July', 'PROPN', 'pobj', 'in'),\n",
              "  ('August', 'PROPN', 'conj', 'July'),\n",
              "  ('followed', 'VERB', 'advcl', 'sees'),\n",
              "  ('tailing', 'NOUN', 'pobj', 'by'),\n",
              "  ('September', 'PROPN', 'pobj', 'in'),\n",
              "  ('year', 'NOUN', 'npadvmod', 'followed')],\n",
              " [('currently', 'ADV', 'advmod', 'experiencing'),\n",
              "  ('experiencing', 'VERB', 'ROOT', 'experiencing'),\n",
              "  ('exceptionally', 'ADV', 'advmod', 'strong'),\n",
              "  ('strong', 'ADJ', 'amod', 'demand'),\n",
              "  ('demand', 'NOUN', 'dobj', 'experiencing'),\n",
              "  ('appetite', 'NOUN', 'nsubj', 'sated'),\n",
              "  ('personal', 'ADJ', 'amod', 'travel'),\n",
              "  ('travel', 'NOUN', 'pobj', 'for'),\n",
              "  ('sated', 'VERB', 'advcl', 'experiencing'),\n",
              "  ('later', 'ADJ', 'amod', 'start'),\n",
              "  ('start', 'NOUN', 'pobj', 'after'),\n",
              "  ('summer', 'NOUN', 'pobj', 'to'),\n",
              "  ('restrictions', 'NOUN', 'pobj', 'due'),\n",
              "  ('business', 'NOUN', 'compound', 'flying'),\n",
              "  ('flying', 'NOUN', 'nsubj', 'taking'),\n",
              "  ('taking', 'VERB', 'conj', 'sated'),\n",
              "  ('alongside', 'ADV', 'advmod', 'taking')],\n",
              " [('Eugène', 'PROPN', 'nsubj', 'said'),\n",
              "  ('said', 'VERB', 'ROOT', 'said'),\n",
              "  ('UK', 'PROPN', 'compound', 'government'),\n",
              "  ('government', 'NOUN', 'poss', 'relaxation'),\n",
              "  ('relaxation', 'NOUN', 'nsubj', 'propelled'),\n",
              "  ('travel', 'NOUN', 'compound', 'restrictions'),\n",
              "  ('restrictions', 'NOUN', 'pobj', 'of'),\n",
              "  ('4', 'NUM', 'nummod', 'October'),\n",
              "  ('October', 'PROPN', 'pobj', 'from'),\n",
              "  ('relaxation', 'NOUN', 'conj', 'October'),\n",
              "  ('rules', 'NOUN', 'pobj', 'of'),\n",
              "  ('vaccinated', 'ADJ', 'amod', 'visitors'),\n",
              "  ('European', 'ADJ', 'amod', 'visitors'),\n",
              "  ('visitors', 'NOUN', 'pobj', 'for'),\n",
              "  ('propelled', 'VERB', 'ccomp', 'said'),\n",
              "  ('demand', 'NOUN', 'dobj', 'propelled'),\n",
              "  ('increased', 'VERB', 'amod', 'flights'),\n",
              "  ('private', 'ADJ', 'amod', 'flights'),\n",
              "  ('jet', 'NOUN', 'compound', 'flights'),\n",
              "  ('flights', 'NOUN', 'pobj', 'for'),\n",
              "  ('wealthy', 'ADJ', 'amod', 'travellers'),\n",
              "  ('travellers', 'NOUN', 'pobj', 'with'),\n",
              "  ('continuing', 'VERB', 'acl', 'travellers'),\n",
              "  ('plans', 'NOUN', 'dobj', 'make'),\n",
              "  ('short', 'ADJ', 'amod', 'breaks'),\n",
              "  ('breaks', 'NOUN', 'pobj', 'for'),\n",
              "  ('holidays', 'NOUN', 'conj', 'breaks'),\n",
              "  ('private', 'ADJ', 'amod', 'jet'),\n",
              "  ('jet', 'NOUN', 'pobj', 'by'),\n",
              "  ('autumn', 'NOUN', 'compound', 'period'),\n",
              "  ('period', 'NOUN', 'pobj', 'into'),\n",
              "  ('later', 'ADV', 'advmod', 'seen'),\n",
              "  ('usually', 'ADV', 'advmod', 'seen'),\n",
              "  ('seen', 'VERB', 'conj', 'continuing')],\n",
              " [('said', 'VERB', 'ROOT', 'said'),\n",
              "  ('business', 'NOUN', 'compound', 'destinations'),\n",
              "  ('destinations', 'NOUN', 'nsubj', 'climbed'),\n",
              "  ('Paris', 'PROPN', 'pobj', 'as'),\n",
              "  ('Zurich', 'PROPN', 'conj', 'Paris'),\n",
              "  ('Munich', 'PROPN', 'conj', 'Zurich'),\n",
              "  ('Amsterdam', 'PROPN', 'conj', 'Munich'),\n",
              "  ('climbed', 'VERB', 'ccomp', 'said'),\n",
              "  ('10', 'NUM', 'nummod', 'list'),\n",
              "  ('list', 'NOUN', 'pobj', 'into'),\n",
              "  ('European', 'ADJ', 'amod', 'destinations'),\n",
              "  ('destinations', 'NOUN', 'pobj', 'of'),\n",
              "  ('previously', 'ADV', 'advmod', 'dominated'),\n",
              "  ('dominated', 'VERB', 'relcl', 'destinations'),\n",
              "  ('holiday', 'NOUN', 'compound', 'hotspots'),\n",
              "  ('hotspots', 'NOUN', 'pobj', 'by')],\n",
              " [('Flexjet', 'PROPN', 'compound', 'owners'),\n",
              "  ('owners', 'NOUN', 'pobj', 'of'),\n",
              "  ('PrivateFly', 'ADJ', 'amod', 'clients'),\n",
              "  ('clients', 'NOUN', 'conj', 'owners'),\n",
              "  ('starting', 'VERB', 'ccomp', 'added'),\n",
              "  ('fly', 'VERB', 'xcomp', 'starting'),\n",
              "  ('business', 'NOUN', 'pobj', 'for'),\n",
              "  ('witnessing', 'VERB', 'conj', 'starting'),\n",
              "  ('release', 'NOUN', 'dobj', 'witnessing'),\n",
              "  ('pent', 'VERB', 'amod', 'demand'),\n",
              "  ('demand', 'NOUN', 'pobj', 'of'),\n",
              "  ('person', 'NOUN', 'pobj', 'in'),\n",
              "  ('meetings', 'NOUN', 'pobj', 'for'),\n",
              "  ('added', 'VERB', 'ROOT', 'added')],\n",
              " [('senior', 'ADJ', 'amod', 'executives'),\n",
              "  ('executives', 'NOUN', 'dobj', 'have'),\n",
              "  ('entrepreneurs', 'NOUN', 'conj', 'executives'),\n",
              "  ('sectors', 'NOUN', 'pobj', 'in'),\n",
              "  ('finance', 'NOUN', 'pobj', 'as'),\n",
              "  ('technology', 'NOUN', 'conj', 'finance'),\n",
              "  ('booking', 'VERB', 'advcl', 'have'),\n",
              "  ('multiple', 'ADJ', 'amod', 'itineraries'),\n",
              "  ('itineraries', 'NOUN', 'dobj', 'booking'),\n",
              "  ('investment', 'NOUN', 'compound', 'targets'),\n",
              "  ('targets', 'NOUN', 'dobj', 'see'),\n",
              "  ('site', 'NOUN', 'compound', 'visits'),\n",
              "  ('visits', 'NOUN', 'dobj', 'make')],\n",
              " [('easing', 'NOUN', 'nsubj', 'adding'),\n",
              "  ('ban', 'NOUN', 'pobj', 'of'),\n",
              "  ('UK', 'PROPN', 'nmod', 'travellers'),\n",
              "  ('European', 'ADJ', 'conj', 'UK'),\n",
              "  ('travellers', 'NOUN', 'pobj', 'on'),\n",
              "  ('November', 'PROPN', 'pobj', 'from'),\n",
              "  ('adding', 'VERB', 'ROOT', 'adding'),\n",
              "  ('unusually', 'ADV', 'advmod', 'high'),\n",
              "  ('high', 'ADJ', 'amod', 'demand'),\n",
              "  ('demand', 'NOUN', 'pobj', 'to'),\n",
              "  ('final', 'ADJ', 'amod', 'quarter'),\n",
              "  ('quarter', 'NOUN', 'pobj', 'in'),\n",
              "  ('year', 'NOUN', 'pobj', 'of')],\n",
              " [('early', 'ADJ', 'amod', 'stages'),\n",
              "  ('stages', 'NOUN', 'pobj', 'During'),\n",
              "  ('pandemic', 'ADJ', 'amod', 'people'),\n",
              "  ('wealthy', 'ADJ', 'amod', 'people'),\n",
              "  ('people', 'NOUN', 'pobj', 'of'),\n",
              "  ('turned', 'VERB', 'ROOT', 'turned'),\n",
              "  ('chartering', 'VERB', 'pcomp', 'to'),\n",
              "  ('private', 'ADJ', 'amod', 'jets'),\n",
              "  ('jets', 'NOUN', 'dobj', 'chartering'),\n",
              "  ('evacuation', 'NOUN', 'compound', 'flights'),\n",
              "  ('flights', 'NOUN', 'pobj', 'for'),\n",
              "  ('countries', 'NOUN', 'pobj', 'of'),\n",
              "  ('hit', 'VERB', 'acl', 'countries'),\n",
              "  ('coronavirus', 'NOUN', 'compound', 'outbreak'),\n",
              "  ('outbreak', 'NOUN', 'pobj', 'by')],\n",
              " [('Private', 'ADJ', 'amod', 'jets'),\n",
              "  ('jets', 'NOUN', 'nsubj', 'emit'),\n",
              "  ('emit', 'VERB', 'ROOT', 'emit'),\n",
              "  ('20', 'NUM', 'npadvmod', 'more'),\n",
              "  ('times', 'NOUN', 'quantmod', '20'),\n",
              "  ('carbon', 'NOUN', 'compound', 'dioxide'),\n",
              "  ('dioxide', 'NOUN', 'dobj', 'emit'),\n",
              "  ('passenger', 'NOUN', 'compound', 'mile'),\n",
              "  ('mile', 'NOUN', 'pobj', 'per'),\n",
              "  ('commercial', 'ADJ', 'amod', 'flights'),\n",
              "  ('flights', 'NOUN', 'pobj', 'than'),\n",
              "  ('according', 'VERB', 'prep', 'emit'),\n",
              "  ('industry', 'NOUN', 'compound', 'data'),\n",
              "  ('data', 'NOUN', 'pobj', 'to')],\n",
              " [('Brian', 'PROPN', 'compound', 'Foley'),\n",
              "  ('Foley', 'PROPN', 'nsubj', 'said'),\n",
              "  ('aviation', 'NOUN', 'compound', 'analyst'),\n",
              "  ('analyst', 'NOUN', 'appos', 'Foley'),\n",
              "  ('said', 'VERB', 'ROOT', 'said'),\n",
              "  ('demand', 'NOUN', 'nsubj', 'started'),\n",
              "  ('private', 'ADJ', 'amod', 'flights'),\n",
              "  ('jet', 'NOUN', 'compound', 'flights'),\n",
              "  ('flights', 'NOUN', 'pobj', 'for'),\n",
              "  ('started', 'VERB', 'ccomp', 'said'),\n",
              "  ('feed', 'VERB', 'xcomp', 'started'),\n",
              "  ('increased', 'VERB', 'amod', 'orders'),\n",
              "  ('orders', 'NOUN', 'pobj', 'to'),\n",
              "  ('new', 'ADJ', 'amod', 'construction'),\n",
              "  ('plane', 'NOUN', 'compound', 'construction'),\n",
              "  ('construction', 'NOUN', 'pobj', 'for'),\n",
              "  ('decline', 'NOUN', 'pobj', 'after'),\n",
              "  ('2020', 'NUM', 'pobj', 'in'),\n",
              "  ('annual', 'ADJ', 'amod', 'fall'),\n",
              "  ('fall', 'NOUN', 'attr', 'was'),\n",
              "  ('new', 'ADJ', 'amod', 'deliveries'),\n",
              "  ('jet', 'NOUN', 'compound', 'deliveries'),\n",
              "  ('deliveries', 'NOUN', 'pobj', 'in'),\n",
              "  ('decade', 'NOUN', 'pobj', 'in')],\n",
              " [('Foley', 'PROPN', 'nsubj', 'said'),\n",
              "  ('said', 'VERB', 'ROOT', 'said'),\n",
              "  ('demand', 'NOUN', 'nsubjpass', 'driven'),\n",
              "  ('driven', 'VERB', 'ccomp', 'said'),\n",
              "  ('heeled', 'ADJ', 'amod', 'travellers'),\n",
              "  ('travellers', 'NOUN', 'pobj', 'by'),\n",
              "  ('look[ing', 'VERB', 'advcl', 'driven'),\n",
              "  ('alternatives', 'NOUN', 'pobj', 'for'),\n",
              "  ('airlines', 'NOUN', 'poss', 'terminals'),\n",
              "  ('crowded', 'ADJ', 'amod', 'terminals'),\n",
              "  ('terminals', 'NOUN', 'pobj', 'to'),\n",
              "  ('shoehorned', 'VERB', 'conj', 'driven'),\n",
              "  ('middle', 'ADJ', 'amod', 'seat'),\n",
              "  ('seat', 'NOUN', 'pobj', 'into'),\n",
              "  ('strangers', 'NOUN', 'pobj', 'to')],\n",
              " [('looking', 'VERB', 'ROOT', 'looking'),\n",
              "  ('private', 'ADJ', 'amod', 'charter'),\n",
              "  ('jet', 'NOUN', 'compound', 'charter'),\n",
              "  ('charter', 'NOUN', 'pobj', 'to'),\n",
              "  ('fractional', 'ADJ', 'amod', 'ownership'),\n",
              "  ('ownership', 'NOUN', 'conj', 'charter'),\n",
              "  ('avoid', 'VERB', 'advcl', 'looking'),\n",
              "  ('mosh', 'NOUN', 'compound', 'pit'),\n",
              "  ('pit', 'NOUN', 'dobj', 'avoid')],\n",
              " [('Objective', 'ADJ', 'amod', 'data'),\n",
              "  ('data', 'NOUN', 'nsubj', 'showed'),\n",
              "  ('showed', 'VERB', 'ROOT', 'showed'),\n",
              "  ('business', 'NOUN', 'compound', 'jet'),\n",
              "  ('jet', 'NOUN', 'compound', 'travel'),\n",
              "  ('travel', 'NOUN', 'nsubj', 'climbing'),\n",
              "  ('quickly', 'ADV', 'advmod', 'climbing'),\n",
              "  ('climbing', 'VERB', 'ccomp', 'showed'),\n",
              "  ('pre', 'ADJ', 'amod', 'levels'),\n",
              "  ('pandemic', 'ADJ', 'amod', 'levels'),\n",
              "  ('levels', 'NOUN', 'pobj', 'toward'),\n",
              "  ('airlines', 'NOUN', 'nsubj', 'continued'),\n",
              "  ('continued', 'VERB', 'advcl', 'climbing'),\n",
              "  ('languish', 'VERB', 'xcomp', 'continued')],\n",
              " [('Foley', 'PROPN', 'nsubj', 'said'),\n",
              "  ('said', 'VERB', 'ROOT', 'said'),\n",
              "  ('big', 'ADJ', 'amod', 'manufacturers'),\n",
              "  ('private', 'ADJ', 'amod', 'manufacturers'),\n",
              "  ('jet', 'NOUN', 'compound', 'manufacturers'),\n",
              "  ('manufacturers', 'NOUN', 'nsubj', 'reporting'),\n",
              "  ('reporting', 'VERB', 'ccomp', 'said'),\n",
              "  ('twice', 'ADV', 'advmod', 'many'),\n",
              "  ('orders', 'NOUN', 'dobj', 'reporting'),\n",
              "  ('jets', 'NOUN', 'pobj', 'for'),\n",
              "  ('number', 'NOUN', 'pobj', 'as'),\n",
              "  ('currently', 'ADV', 'advmod', 'producing'),\n",
              "  ('producing', 'VERB', 'relcl', 'number'),\n",
              "  ('leading', 'VERB', 'advcl', 'reporting'),\n",
              "  ('meaningful', 'ADJ', 'amod', 'up'),\n",
              "  ('ramp', 'NOUN', 'compound', 'up'),\n",
              "  ('production', 'NOUN', 'compound', 'capabilities'),\n",
              "  ('capabilities', 'NOUN', 'pobj', 'in')],\n",
              " [('aeroplane', 'NOUN', 'compound', 'production'),\n",
              "  ('production', 'NOUN', 'nsubjpass', 'increased'),\n",
              "  ('increased', 'VERB', 'advcl', 'be'),\n",
              "  ('flip', 'NOUN', 'pobj', 'with'),\n",
              "  ('switch', 'NOUN', 'nmod', 'deliveries'),\n",
              "  ('overall', 'ADJ', 'amod', 'deliveries'),\n",
              "  ('2021', 'NUM', 'nummod', 'deliveries'),\n",
              "  ('deliveries', 'NOUN', 'pobj', 'of'),\n",
              "  ('wo', 'AUX', 'aux', 'be'),\n",
              "  ('different', 'ADJ', 'acomp', 'be'),\n",
              "  ('previous', 'ADJ', 'amod', 'years'),\n",
              "  ('years', 'NOUN', 'pobj', 'from'),\n",
              "  ('past', 'ADJ', 'amod', 'decade'),\n",
              "  ('decade', 'NOUN', 'pobj', 'over'),\n",
              "  ('said', 'VERB', 'ROOT', 'said')],\n",
              " [('OEMs', 'PROPN', 'nmod', 'manufacturers'),\n",
              "  ('original', 'ADJ', 'amod', 'manufacturers'),\n",
              "  ('equipment', 'NOUN', 'compound', 'manufacturers'),\n",
              "  ('manufacturers', 'NOUN', 'pobj', 'as'),\n",
              "  ('gain', 'VERB', 'ROOT', 'gain'),\n",
              "  ('confidence', 'NOUN', 'dobj', 'gain'),\n",
              "  ('increased', 'VERB', 'amod', 'demand'),\n",
              "  ('demand', 'NOUN', 'nsubj', 'is'),\n",
              "  ('real', 'ADJ', 'acomp', 'is'),\n",
              "  ('crank', 'VERB', 'conj', 'gain'),\n",
              "  ('planes', 'NOUN', 'dobj', 'crank'),\n",
              "  ('risk', 'NOUN', 'pobj', 'without'),\n",
              "  ('unsold', 'ADJ', 'amod', 'units'),\n",
              "  ('units', 'NOUN', 'pobj', 'of'),\n",
              "  ('expensive', 'ADJ', 'amod', 'ornaments'),\n",
              "  ('lawn', 'NOUN', 'compound', 'ornaments'),\n",
              "  ('ornaments', 'NOUN', 'attr', 'becoming'),\n",
              "  ('spin', 'NOUN', 'compound', 'up'),\n",
              "  ('pronounced', 'ADJ', 'acomp', 'become')],\n",
              " [('consultancy', 'NOUN', 'nsubj', 'predicted'),\n",
              "  ('Brian', 'PROPN', 'compound', 'Associates'),\n",
              "  ('Foley', 'PROPN', 'compound', 'Associates'),\n",
              "  ('Associates', 'PROPN', 'appos', 'consultancy'),\n",
              "  ('predicted', 'VERB', 'ROOT', 'predicted'),\n",
              "  ('700', 'NUM', 'nummod', 'jets'),\n",
              "  ('new', 'ADJ', 'amod', 'jets'),\n",
              "  ('private', 'ADJ', 'amod', 'jets'),\n",
              "  ('jets', 'NOUN', 'nsubjpass', 'delivered'),\n",
              "  ('delivered', 'VERB', 'ccomp', 'predicted'),\n",
              "  ('2021', 'NUM', 'pobj', 'in'),\n",
              "  ('roughly', 'ADV', 'advmod', 'same'),\n",
              "  ('previous', 'ADJ', 'amod', 'years'),\n",
              "  ('years', 'NOUN', 'pobj', 'as')],\n",
              " [('said', 'VERB', 'ROOT', 'said'),\n",
              "  ('meaningful', 'ADJ', 'amod', 'up'),\n",
              "  ('ramp', 'NOUN', 'compound', 'up'),\n",
              "  ('begin', 'VERB', 'ccomp', 'said'),\n",
              "  ('2022', 'NUM', 'pobj', 'in'),\n",
              "  ('continue', 'VERB', 'conj', 'begin'),\n",
              "  ('unabated', 'ADJ', 'acomp', 'continue'),\n",
              "  ('years', 'NOUN', 'pobj', 'for'),\n",
              "  ('easily', 'ADV', 'advmod', 'surpassing'),\n",
              "  ('surpassing', 'VERB', 'advcl', 'continue'),\n",
              "  ('900', 'NUM', 'nummod', 'unit'),\n",
              "  ('unit', 'NOUN', 'compound', 'level'),\n",
              "  ('level', 'NOUN', 'dobj', 'surpassing'),\n",
              "  ('time', 'NOUN', 'pobj', 'for'),\n",
              "  ('2007', 'NUM', 'pobj', 'since')]]"
            ]
          },
          "metadata": {},
          "execution_count": 65
        }
      ]
    },
    {
      "cell_type": "code",
      "source": [
        "svo_triplet = extract_svo_triplet(components_infos[1])"
      ],
      "metadata": {
        "id": "J2A16beYz93n"
      },
      "execution_count": null,
      "outputs": []
    },
    {
      "cell_type": "code",
      "source": [
        "teste = spacy_processor(df.iloc[0].content)\n",
        "teste"
      ],
      "metadata": {
        "id": "rueBRzdK0F56"
      },
      "execution_count": null,
      "outputs": []
    },
    {
      "cell_type": "code",
      "source": [
        "components_infos"
      ],
      "metadata": {
        "colab": {
          "base_uri": "https://localhost:8080/"
        },
        "id": "9CR3Upj7lUG1",
        "outputId": "c8e07a67-7a58-4114-f14e-3a59a6a67ef3"
      },
      "execution_count": null,
      "outputs": [
        {
          "output_type": "execute_result",
          "data": {
            "text/plain": [
              "[[('unprecedented', 'ADJ'),\n",
              "  ('Private', 'ADJ'),\n",
              "  ('experiencing', 'VERB'),\n",
              "  ('providers', 'NOUN'),\n",
              "  ('demand', 'NOUN'),\n",
              "  ('jet', 'NOUN')],\n",
              " [('avoid', 'VERB'),\n",
              "  ('customers', 'NOUN'),\n",
              "  ('wealthy', 'ADJ'),\n",
              "  ('mosh', 'PROPN'),\n",
              "  ('pit', 'NOUN'),\n",
              "  ('seeking', 'VERB'),\n",
              "  ('from', 'N/A')],\n",
              " [('flights', 'NOUN'), ('commercial', 'ADJ'), ('of', 'N/A')],\n",
              " [('getaways', 'NOUN'), ('autumn', 'NOUN'), ('on', 'N/A')],\n",
              " [('coronavirus', 'NOUN'),\n",
              "  ('travel', 'NOUN'),\n",
              "  ('ease', 'NOUN'),\n",
              "  ('restrictions', 'NOUN'),\n",
              "  ('as', 'N/A')]]"
            ]
          },
          "metadata": {},
          "execution_count": 68
        }
      ]
    },
    {
      "cell_type": "code",
      "source": [
        "import matplotlib.pyplot as plt\n",
        "\n",
        "# The provided data\n",
        "data = components_infos[0]\n",
        "\n",
        "# Create a directed graph\n",
        "G = nx.DiGraph()\n",
        "\n",
        "# Add edges to the graph\n",
        "for source, pos, dep, target in data:\n",
        "    G.add_edge(source, target, label=dep)\n",
        "\n",
        "# Position nodes using spring layout\n",
        "pos = nx.spring_layout(G)\n",
        "\n",
        "# Set up the plot\n",
        "plt.figure(figsize=(21, 15))  # Set the figure size\n",
        "\n",
        "# Draw the nodes\n",
        "nx.draw_networkx_nodes(G, pos, node_color='lightblue', node_size=1500)\n",
        "\n",
        "# Draw the edges\n",
        "nx.draw_networkx_edges(G, pos, edgelist=G.edges(), arrowstyle='-|>', arrowsize=15, edge_color='gray')\n",
        "\n",
        "# Draw the labels\n",
        "nx.draw_networkx_labels(G, pos, font_size=7, font_weight='bold')\n",
        "\n",
        "# Draw the edge labels\n",
        "edge_labels = nx.get_edge_attributes(G, 'label')\n",
        "nx.draw_networkx_edge_labels(G, pos, edge_labels=edge_labels, font_color='red', font_size=5)\n",
        "\n",
        "# Customize the axes and title\n",
        "plt.title(\"Dependency Graph\", fontsize=20)\n",
        "plt.axis('off')  # Turn off the axis\n",
        "\n",
        "# Show the plot\n",
        "plt.show()"
      ],
      "metadata": {
        "colab": {
          "base_uri": "https://localhost:8080/",
          "height": 211
        },
        "id": "9AuTS_hfbRWC",
        "outputId": "a4691131-8c8c-4d31-98ad-64ca39d7a532"
      },
      "execution_count": null,
      "outputs": [
        {
          "output_type": "error",
          "ename": "ValueError",
          "evalue": "not enough values to unpack (expected 4, got 2)",
          "traceback": [
            "\u001b[0;31m---------------------------------------------------------------------------\u001b[0m",
            "\u001b[0;31mValueError\u001b[0m                                Traceback (most recent call last)",
            "\u001b[0;32m<ipython-input-67-2ead6bb4bb29>\u001b[0m in \u001b[0;36m<cell line: 10>\u001b[0;34m()\u001b[0m\n\u001b[1;32m      8\u001b[0m \u001b[0;34m\u001b[0m\u001b[0m\n\u001b[1;32m      9\u001b[0m \u001b[0;31m# Add edges to the graph\u001b[0m\u001b[0;34m\u001b[0m\u001b[0;34m\u001b[0m\u001b[0m\n\u001b[0;32m---> 10\u001b[0;31m \u001b[0;32mfor\u001b[0m \u001b[0msource\u001b[0m\u001b[0;34m,\u001b[0m \u001b[0mpos\u001b[0m\u001b[0;34m,\u001b[0m \u001b[0mdep\u001b[0m\u001b[0;34m,\u001b[0m \u001b[0mtarget\u001b[0m \u001b[0;32min\u001b[0m \u001b[0mdata\u001b[0m\u001b[0;34m:\u001b[0m\u001b[0;34m\u001b[0m\u001b[0;34m\u001b[0m\u001b[0m\n\u001b[0m\u001b[1;32m     11\u001b[0m     \u001b[0mG\u001b[0m\u001b[0;34m.\u001b[0m\u001b[0madd_edge\u001b[0m\u001b[0;34m(\u001b[0m\u001b[0msource\u001b[0m\u001b[0;34m,\u001b[0m \u001b[0mtarget\u001b[0m\u001b[0;34m,\u001b[0m \u001b[0mlabel\u001b[0m\u001b[0;34m=\u001b[0m\u001b[0mdep\u001b[0m\u001b[0;34m)\u001b[0m\u001b[0;34m\u001b[0m\u001b[0;34m\u001b[0m\u001b[0m\n\u001b[1;32m     12\u001b[0m \u001b[0;34m\u001b[0m\u001b[0m\n",
            "\u001b[0;31mValueError\u001b[0m: not enough values to unpack (expected 4, got 2)"
          ]
        }
      ]
    },
    {
      "cell_type": "code",
      "source": [
        "def extract_svo(doc):\n",
        "    svos = []\n",
        "\n",
        "    for token in doc:\n",
        "        # Identify the subject\n",
        "        if token.dep_ in {\"nsubj\", \"nsubjpass\"}:\n",
        "            subject = token.text\n",
        "            verb = token.head\n",
        "            objects = []\n",
        "\n",
        "            # Identify direct objects and their modifiers\n",
        "            for child in verb.children:\n",
        "                if child.dep_ in {\"dobj\", \"attr\"}:\n",
        "                    objects.append(child)\n",
        "                # Identify objects of prepositional phrases\n",
        "                elif child.dep_ == \"prep\":\n",
        "                    for pobj in child.children:\n",
        "                        if pobj.dep_ == \"pobj\":\n",
        "                            objects.append(f\"{child.text} {pobj.text}\")\n",
        "\n",
        "            # Include clausal complements (ccomp) and xcomps\n",
        "            for child in verb.children:\n",
        "                if child.dep_ in {\"ccomp\", \"xcomp\"}:\n",
        "                    objects.append(child)\n",
        "\n",
        "            # Store the SVO triplets\n",
        "            if objects:\n",
        "                for obj in objects:\n",
        "                    svos.append((subject, verb.lemma_, obj.text if isinstance(obj, spacy.tokens.Token) else obj))\n",
        "            else:\n",
        "                # If no direct objects, add the verb alone as a triplet\n",
        "                svos.append((subject, verb.lemma_, None))\n",
        "\n",
        "    return svos"
      ],
      "metadata": {
        "id": "TlmDfB2zWdb6"
      },
      "execution_count": null,
      "outputs": []
    },
    {
      "cell_type": "code",
      "source": [
        "# Load SpaCy's English language model\n",
        "nlp = spacy.load(\"en_core_web_sm\")\n",
        "\n",
        "def extract_svo(doc):\n",
        "    svos = []\n",
        "\n",
        "    for token in doc:\n",
        "        # Identify the subject\n",
        "        if token.dep_ in {\"nsubj\", \"nsubjpass\"}:\n",
        "            subject = token.text\n",
        "            verb = token.head\n",
        "            objects = []\n",
        "\n",
        "            # Identify direct objects and their modifiers\n",
        "            for child in verb.children:\n",
        "                if child.dep_ in {\"dobj\", \"attr\"}:\n",
        "                    objects.append(child)\n",
        "                # Identify objects of prepositional phrases\n",
        "                elif child.dep_ == \"prep\":\n",
        "                    for pobj in child.children:\n",
        "                        if pobj.dep_ == \"pobj\":\n",
        "                            objects.append(f\"{child.text} {pobj.text}\")\n",
        "\n",
        "            # Include clausal complements (ccomp) and xcomps\n",
        "            for child in verb.children:\n",
        "                if child.dep_ in {\"ccomp\", \"xcomp\"}:\n",
        "                    objects.append(child)\n",
        "\n",
        "            # Store the SVO triplets\n",
        "            if objects:\n",
        "                for obj in objects:\n",
        "                    svos.append((subject, verb.lemma_, obj.text if isinstance(obj, spacy.tokens.Token) else obj))\n",
        "            else:\n",
        "                # If no direct objects, add the verb alone as a triplet\n",
        "                svos.append((subject, verb.lemma_, None))\n",
        "\n",
        "    return svos\n",
        "\n",
        "# Test the function with the provided sentence\n",
        "sentence = \"Private jet providers are experiencing “unprecedented demand” from wealthy customers seeking to avoid the “mosh pit” of commercial flights on autumn getaways as coronavirus travel restrictions ease.\"\n",
        "doc = nlp(sentence)\n",
        "\n",
        "svos = extract_svo(doc)\n",
        "for svo in svos:\n",
        "    print(f\"Subject: {svo[0]}, Verb: {svo[1]}, Object: {svo[2]}\")\n"
      ],
      "metadata": {
        "id": "3iD3sUKx9kdM"
      },
      "execution_count": null,
      "outputs": []
    },
    {
      "cell_type": "markdown",
      "source": [
        "- Subject: providers, Verb: experience, Object: unprecedented demand\n",
        "- Subject: customers, Verb: seek, Object: to avoid\n",
        "- Subject: restrictions, Verb: ease, Object: None"
      ],
      "metadata": {
        "id": "1frvnsSW-TqK"
      }
    },
    {
      "cell_type": "markdown",
      "source": [
        "# Explanation"
      ],
      "metadata": {
        "id": "fhFOg30bPlzj"
      }
    },
    {
      "cell_type": "markdown",
      "source": [
        "In spaCy, the dep_ attribute of a token indicates its syntactic dependency, representing the relationship between a token and its head within the sentence's syntactic structure. Here are the possible dependency labels (dep_ values) and their meanings:\n",
        "\n",
        "- acl (clausal modifier of noun): A clause that modifies a noun.\n",
        "\n",
        "Example: \"The book that you gave me\"\n",
        "- acomp (adjectival complement): An adjectival phrase that follows a copular verb and describes the subject.\n",
        "\n",
        "Example: \"She is happy\"\n",
        "- advcl (adverbial clause modifier): A clause that modifies a verb, adjective, or adverb.\n",
        "\n",
        "Example: \"She left because it was late\"\n",
        "- advmod (adverbial modifier): An adverb that modifies a verb, adjective, or another adverb.\n",
        "\n",
        "Example: \"He ran quickly\"\n",
        "- agent (agent): The noun phrase that represents the agent in a passive construction.\n",
        "\n",
        "Example: \"The cake was eaten by the dog\"\n",
        "- amod (adjectival modifier): An adjective that modifies a noun.\n",
        "\n",
        "Example: \"The red car\"\n",
        "- appos (appositional modifier): A noun or noun phrase that renames another noun right beside it.\n",
        "\n",
        "Example: \"My friend, a doctor, will see you now\"\n",
        "- attr (attribute): An attribute of the subject following a copular verb.\n",
        "\n",
        "Example: \"She is a teacher\"\n",
        "- aux (auxiliary): An auxiliary verb.\n",
        "\n",
        "Example: \"She is running\"\n",
        "- auxpass (passive auxiliary): An auxiliary verb in a passive construction.\n",
        "\n",
        "Example: \"The cake was eaten\"\n",
        "- case (case marker): A word marking a noun's grammatical case.\n",
        "\n",
        "Example: \"He sat on the chair\"\n",
        "- cc (coordinating conjunction): A coordinating conjunction.\n",
        "\n",
        "Example: \"We have apples and oranges\"\n",
        "- ccomp (clausal complement): A clause that serves as a complement.\n",
        "\n",
        "Example: \"I know that you are coming\"\n",
        "- compound (compound): A compound word or phrase.\n",
        "\n",
        "Example: \"Credit card\"\n",
        "- conj (conjunct): A conjunct in a coordination.\n",
        "\n",
        "Example: \"We have apples and oranges\"\n",
        "- cop (copula): A copular verb.\n",
        "\n",
        "Example: \"She is a teacher\"\n",
        "- csubj (clausal subject): A clause that functions as the subject.\n",
        "\n",
        "Example: \"What she said was surprising\"\n",
        "- csubjpass (clausal passive subject): A clause that functions as the subject of a passive verb.\n",
        "\n",
        "Example: \"That he was promoted was well known\"\n",
        "- dative (dative): The indirect object of a verb.\n",
        "\n",
        "Example: \"She gave him a gift\"\n",
        "- dep (unclassified dependent): A dependency that doesn't fit any other category.\n",
        "\n",
        "Example: \"He is a good boy\"\n",
        "- det (determiner): A determiner.\n",
        "\n",
        "Example: \"The car is red\"\n",
        "- dobj (direct object): The direct object of a verb.\n",
        "\n",
        "Example: \"She reads the book\"\n",
        "- expl (expletive): An expletive word.\n",
        "\n",
        "Example: \"There is a cat on the roof\"\n",
        "- intj (interjection): An interjection.\n",
        "\n",
        "Example: \"Wow, that's amazing!\"\n",
        "- mark (marker): A word introducing a subordinate clause.\n",
        "\n",
        "Example: \"She left because it was late\"\n",
        "- meta (meta modifier): A metatextual element.\n",
        "\n",
        "Example: \"The book, frankly, is not good\"\n",
        "- neg (negation modifier): A negation modifier.\n",
        "\n",
        "Example: \"She does not like it\"\n",
        "- nounmod (noun modifier): A noun that modifies another noun.\n",
        "\n",
        "Example: \"Oil company\"\n",
        "- npadvmod (noun phrase adverbial modifier): A noun phrase that functions as an adverbial modifier.\n",
        "\n",
        "Example: \"He arrived last night\"\n",
        "- nsubj (nominal subject): The subject of a clause.\n",
        "\n",
        "Example: \"She runs fast\"\n",
        "- nsubjpass (passive nominal subject): The subject of a passive verb.\n",
        "\n",
        "Example: \"The cake was eaten\"\n",
        "- nummod (numeric modifier): A number that modifies a noun.\n",
        "\n",
        "Example: \"Three cars\"\n",
        "- oprd (object predicate): An object predicate.\n",
        "\n",
        "Example: \"They elected him president\"\n",
        "- parataxis (parataxis): A relationship between two elements that are side-by-side but do not have a clear syntactic relationship.\n",
        "\n",
        "Example: \"We went to the park, he played football\"\n",
        "- pcomp (prepositional complement): The complement of a preposition.\n",
        "\n",
        "Example: \"He is responsible for doing that\"\n",
        "- pobj (object of preposition): The object of a preposition.\n",
        "\n",
        "Example: \"He sat on the chair\"\n",
        "- poss (possession modifier): A possessive modifier.\n",
        "\n",
        "Example: \"John's book\"\n",
        "- preconj (pre-correlative conjunction): A conjunction that appears before a correlative conjunction.\n",
        "\n",
        "Example: \"Neither rain nor snow\"\n",
        "- prep (prepositional modifier): A prepositional modifier.\n",
        "\n",
        "Example: \"He arrived in the morning\"\n",
        "- prt (particle): A particle.\n",
        "\n",
        "Example: \"She gave up\"\n",
        "- punct (punctuation): Punctuation.\n",
        "\n",
        "Example: \"Hello, world!\"\n",
        "- quantmod (quantifier modifier): A quantifier phrase modifier.\n",
        "\n",
        "Example: \"He made all the preparations\"\n",
        "- relcl (relative clause modifier): A relative clause modifier.\n",
        "\n",
        "Example: \"The book that I read\"\n",
        "- root (root): The root of the sentence.\n",
        "\n",
        "Example: \"She runs fast\"\n",
        "- xcomp (open clausal complement): An open clausal complement.\n",
        "\n",
        "Example: \"She wants to leave\""
      ],
      "metadata": {
        "id": "iE6AEkSePn0L"
      }
    },
    {
      "cell_type": "code",
      "source": [
        "SUBJECTS = [\"nsubj\", \"nsubjpass\", \"csubj\", \"csubjpass\", \"agent\", \"expl\"]\n",
        "OBJECTS = [\"dobj\", \"dative\", \"attr\", \"oprd\"]\n",
        "ADJECTIVES = [\"acomp\", \"advcl\", \"advmod\", \"amod\", \"appos\", \"nn\", \"nmod\", \"ccomp\", \"complm\", \"hmod\", \"infmod\", \"xcomp\",\n",
        "              \"rcmod\", \"poss\", \" possessive\"]\n",
        "COMPOUNDS = [\"compound\"]\n",
        "PREPOSITIONS = [\"prep\"]\n",
        "\n",
        "\n",
        "def getSubsFromConjunctions(subs):\n",
        "    moreSubs = []\n",
        "    for sub in subs:\n",
        "        # rights is a generator\n",
        "        rights = list(sub.rights)\n",
        "        rightDeps = {tok.lower_ for tok in rights}\n",
        "        if \"and\" in rightDeps:\n",
        "            moreSubs.extend([tok for tok in rights if tok.dep_ in SUBJECTS or tok.pos_ == \"NOUN\"])\n",
        "            if len(moreSubs) > 0:\n",
        "                moreSubs.extend(getSubsFromConjunctions(moreSubs))\n",
        "    return moreSubs\n",
        "\n",
        "\n",
        "def getObjsFromConjunctions(objs):\n",
        "    moreObjs = []\n",
        "    for obj in objs:\n",
        "        # rights is a generator\n",
        "        rights = list(obj.rights)\n",
        "        rightDeps = {tok.lower_ for tok in rights}\n",
        "        if \"and\" in rightDeps:\n",
        "            moreObjs.extend([tok for tok in rights if tok.dep_ in OBJECTS or tok.pos_ == \"NOUN\"])\n",
        "            if len(moreObjs) > 0:\n",
        "                moreObjs.extend(getObjsFromConjunctions(moreObjs))\n",
        "    return moreObjs\n",
        "\n",
        "\n",
        "def getVerbsFromConjunctions(verbs):\n",
        "    moreVerbs = []\n",
        "    for verb in verbs:\n",
        "        rightDeps = {tok.lower_ for tok in verb.rights}\n",
        "        if \"and\" in rightDeps:\n",
        "            moreVerbs.extend([tok for tok in verb.rights if tok.pos_ == \"VERB\"])\n",
        "            if len(moreVerbs) > 0:\n",
        "                moreVerbs.extend(getVerbsFromConjunctions(moreVerbs))\n",
        "    return moreVerbs\n",
        "\n",
        "\n",
        "def findSubs(tok):\n",
        "    head = tok.head\n",
        "    while head.pos_ != \"VERB\" and head.pos_ != \"NOUN\" and head.head != head:\n",
        "        head = head.head\n",
        "    if head.pos_ == \"VERB\":\n",
        "        subs = [tok for tok in head.lefts if tok.dep_ == \"SUB\"]\n",
        "        if len(subs) > 0:\n",
        "            verbNegated = isNegated(head)\n",
        "            subs.extend(getSubsFromConjunctions(subs))\n",
        "            return subs, verbNegated\n",
        "        elif head.head != head:\n",
        "            return findSubs(head)\n",
        "    elif head.pos_ == \"NOUN\":\n",
        "        return [head], isNegated(tok)\n",
        "    return [], False\n",
        "\n",
        "\n",
        "def isNegated(tok):\n",
        "    negations = {\"no\", \"not\", \"n't\", \"never\", \"none\"}\n",
        "    for dep in list(tok.lefts) + list(tok.rights):\n",
        "        if dep.lower_ in negations:\n",
        "            return True\n",
        "    return False\n",
        "\n",
        "\n",
        "def findSVs(tokens):\n",
        "    svs = []\n",
        "    verbs = [tok for tok in tokens if tok.pos_ == \"VERB\"]\n",
        "    for v in verbs:\n",
        "        subs, verbNegated = getAllSubs(v)\n",
        "        if len(subs) > 0:\n",
        "            for sub in subs:\n",
        "                svs.append((sub.orth_, \"!\" + v.orth_ if verbNegated else v.orth_))\n",
        "    return svs\n",
        "\n",
        "\n",
        "def getObjsFromPrepositions(deps):\n",
        "    objs = []\n",
        "    for dep in deps:\n",
        "        if dep.pos_ == \"ADP\" and dep.dep_ == \"prep\":\n",
        "            objs.extend(\n",
        "                [tok for tok in dep.rights if tok.dep_ in OBJECTS or (tok.pos_ == \"PRON\" and tok.lower_ == \"me\")])\n",
        "    return objs\n",
        "\n",
        "\n",
        "def getAdjectives(toks):\n",
        "    toks_with_adjectives = []\n",
        "    for tok in toks:\n",
        "        adjs = [left for left in tok.lefts if left.dep_ in ADJECTIVES]\n",
        "        adjs.append(tok)\n",
        "        adjs.extend([right for right in tok.rights if tok.dep_ in ADJECTIVES])\n",
        "        tok_with_adj = \" \".join([adj.lower_ for adj in adjs])\n",
        "        toks_with_adjectives.extend(adjs)\n",
        "\n",
        "    return toks_with_adjectives\n",
        "\n",
        "\n",
        "def getObjsFromAttrs(deps):\n",
        "    for dep in deps:\n",
        "        if dep.pos_ == \"NOUN\" and dep.dep_ == \"attr\":\n",
        "            verbs = [tok for tok in dep.rights if tok.pos_ == \"VERB\"]\n",
        "            if len(verbs) > 0:\n",
        "                for v in verbs:\n",
        "                    rights = list(v.rights)\n",
        "                    objs = [tok for tok in rights if tok.dep_ in OBJECTS]\n",
        "                    objs.extend(getObjsFromPrepositions(rights))\n",
        "                    if len(objs) > 0:\n",
        "                        return v, objs\n",
        "    return None, None\n",
        "\n",
        "\n",
        "def getObjFromXComp(deps):\n",
        "    for dep in deps:\n",
        "        if dep.pos_ == \"VERB\" and dep.dep_ == \"xcomp\":\n",
        "            v = dep\n",
        "            rights = list(v.rights)\n",
        "            objs = [tok for tok in rights if tok.dep_ in OBJECTS]\n",
        "            objs.extend(getObjsFromPrepositions(rights))\n",
        "            if len(objs) > 0:\n",
        "                return v, objs\n",
        "    return None, None\n",
        "\n",
        "\n",
        "def getAllSubs(v):\n",
        "    verbNegated = isNegated(v)\n",
        "    subs = [tok for tok in v.lefts if tok.dep_ in SUBJECTS and tok.pos_ != \"DET\"]\n",
        "    if len(subs) > 0:\n",
        "        subs.extend(getSubsFromConjunctions(subs))\n",
        "    else:\n",
        "        foundSubs, verbNegated = findSubs(v)\n",
        "        subs.extend(foundSubs)\n",
        "    return subs, verbNegated\n",
        "\n",
        "\n",
        "def getAllObjs(v):\n",
        "    # rights is a generator\n",
        "    rights = list(v.rights)\n",
        "    objs = [tok for tok in rights if tok.dep_ in OBJECTS]\n",
        "    objs.extend(getObjsFromPrepositions(rights))\n",
        "\n",
        "    potentialNewVerb, potentialNewObjs = getObjFromXComp(rights)\n",
        "    if potentialNewVerb is not None and potentialNewObjs is not None and len(potentialNewObjs) > 0:\n",
        "        objs.extend(potentialNewObjs)\n",
        "        v = potentialNewVerb\n",
        "    if len(objs) > 0:\n",
        "        objs.extend(getObjsFromConjunctions(objs))\n",
        "    return v, objs\n",
        "\n",
        "\n",
        "def getAllObjsWithAdjectives(v):\n",
        "    # rights is a generator\n",
        "    rights = list(v.rights)\n",
        "    objs = [tok for tok in rights if tok.dep_ in OBJECTS]\n",
        "\n",
        "    if len(objs) == 0:\n",
        "        objs = [tok for tok in rights if tok.dep_ in ADJECTIVES]\n",
        "\n",
        "    objs.extend(getObjsFromPrepositions(rights))\n",
        "\n",
        "    potentialNewVerb, potentialNewObjs = getObjFromXComp(rights)\n",
        "    if potentialNewVerb is not None and potentialNewObjs is not None and len(potentialNewObjs) > 0:\n",
        "        objs.extend(potentialNewObjs)\n",
        "        v = potentialNewVerb\n",
        "    if len(objs) > 0:\n",
        "        objs.extend(getObjsFromConjunctions(objs))\n",
        "    return v, objs\n",
        "\n",
        "\n",
        "def findSVAOs(tokens):\n",
        "    svos = []\n",
        "    verbs = [tok for tok in tokens if tok.pos_ == \"VERB\" or tok.dep_ != \"aux\"]\n",
        "\n",
        "    for v in verbs:\n",
        "        subs, verbNegated = getAllSubs(v)\n",
        "        # hopefully there are subs, if not, don't examine this verb any longer\n",
        "        if len(subs) > 0:\n",
        "            v, objs = getAllObjsWithAdjectives(v)\n",
        "            for sub in subs:\n",
        "                for obj in objs:\n",
        "                    objNegated = isNegated(obj)\n",
        "                    obj_desc_tokens = generate_left_right_adjectives(obj)\n",
        "                    sub_compound = generate_sub_compound(sub)\n",
        "                    svos.append((\" \".join(tok.lower_ for tok in sub_compound),\n",
        "                                 \"!\" + v.lower_ if verbNegated or objNegated else v.lower_,\n",
        "                                 \" \".join(tok.lower_ for tok in obj_desc_tokens)))\n",
        "    return svos\n",
        "\n",
        "\n",
        "def generate_sub_compound(sub):\n",
        "    sub_compunds = []\n",
        "    for tok in sub.lefts:\n",
        "        if tok.dep_ in COMPOUNDS:\n",
        "            sub_compunds.extend(generate_sub_compound(tok))\n",
        "    sub_compunds.append(sub)\n",
        "    for tok in sub.rights:\n",
        "        if tok.dep_ in COMPOUNDS:\n",
        "            sub_compunds.extend(generate_sub_compound(tok))\n",
        "    return sub_compunds\n",
        "\n",
        "\n",
        "def generate_left_right_adjectives(obj):\n",
        "    obj_desc_tokens = []\n",
        "    for tok in obj.lefts:\n",
        "        if tok.dep_ in ADJECTIVES:\n",
        "            obj_desc_tokens.extend(generate_left_right_adjectives(tok))\n",
        "    obj_desc_tokens.append(obj)\n",
        "\n",
        "    for tok in obj.rights:\n",
        "        if tok.dep_ in ADJECTIVES:\n",
        "            obj_desc_tokens.extend(generate_left_right_adjectives(tok))\n",
        "\n",
        "    return obj_desc_tokens\n",
        "\n",
        "doc = nlp(sentence)\n",
        "print(findSVAOs(doc))"
      ],
      "metadata": {
        "id": "W3KRZaze1is2"
      },
      "execution_count": null,
      "outputs": []
    },
    {
      "cell_type": "code",
      "source": [
        "import spacy\n",
        "\n",
        "class Phrases():\n",
        "    def __init__(self, sentence):\n",
        "        self.nlp = spacy.load('en_core_web_sm')\n",
        "        self.sentence = str(sentence)\n",
        "        self.doc = self.nlp(self.sentence)\n",
        "        self.svos = []\n",
        "\n",
        "    def merge_phrases(self):\n",
        "        with self.doc.retokenize() as retokenizer:\n",
        "            for np in list(self.doc.noun_chunks):\n",
        "                attrs = {\n",
        "                    \"tag\": np.root.tag_,\n",
        "                    \"lemma\": np.root.lemma_,\n",
        "                    \"ent_type\": np.root.ent_type_,\n",
        "                }\n",
        "                retokenizer.merge(np, attrs=attrs)\n",
        "        return self.doc\n",
        "\n",
        "    def merge_punct(self):\n",
        "        spans = []\n",
        "        for word in self.doc[:-1]:\n",
        "            if word.is_punct or not word.nbor(1).is_punct:\n",
        "                continue\n",
        "            start = word.i\n",
        "            end = word.i + 1\n",
        "            while end < len(self.doc) and self.doc[end].is_punct:\n",
        "                end += 1\n",
        "            span = self.doc[start:end]\n",
        "            spans.append((span, word.tag_, word.lemma_, word.ent_type_))\n",
        "        with self.doc.retokenize() as retokenizer:\n",
        "            for span, tag, lemma, ent_type in spans:\n",
        "                attrs = {\"tag\": tag, \"lemma\": lemma, \"ent_type\": ent_type}\n",
        "                retokenizer.merge(span, attrs=attrs)\n",
        "        return self.doc\n",
        "\n",
        "    def is_passive(self, tokens):\n",
        "        for tok in tokens:\n",
        "            if tok.dep_ == \"auxpass\":\n",
        "                return True\n",
        "        return False\n",
        "\n",
        "    def _is_verb(self, token):\n",
        "        return token.dep_ in [\"ROOT\", \"xcomp\", \"appos\", \"advcl\", \"ccomp\", \"conj\"] and token.tag_ in [\"VB\", \"VBZ\", \"VBD\", \"VBN\", \"VBG\", \"VBP\"]\n",
        "\n",
        "    def find_verbs(self, tokens):\n",
        "        verbs = [tok for tok in tokens if self._is_verb(tok)]\n",
        "        return verbs\n",
        "\n",
        "    def get_all_subs(self, v):\n",
        "        subs = [tok for tok in v.lefts if tok.dep_ in [\"nsubj\", \"nsubjpass\"] and tok.tag_ in [\"NN\" , \"NNS\", \"NNP\", \"NNPS\"]]\n",
        "        if len(subs) == 0:\n",
        "            subs = [tok for tok in v.lefts if tok.dep_ in [\"preconj\"]]\n",
        "            for sub in subs:\n",
        "                rights = list(sub.rights)\n",
        "                right_dependency = [tok.lower_ for tok in rights]\n",
        "                if len(right_dependency) > 0:\n",
        "                    subs = right_dependency[0]\n",
        "        return subs\n",
        "\n",
        "    def get_all_objs(self, v, is_pas):\n",
        "        rights = list(v.rights)\n",
        "        objs = [tok for tok in rights if tok.dep_ in [\"dobj\", \"dative\", \"attr\", \"oprd\", \"pobj\"] or (is_pas and tok.dep_ == 'pobj')]\n",
        "        for obj in objs:\n",
        "            rights = list(obj.rights)\n",
        "            objs.extend(self._get_objs_from_prepositions(rights, is_pas))\n",
        "        return objs\n",
        "\n",
        "    def _get_objs_from_prepositions(self, deps, is_pas):\n",
        "        objs = []\n",
        "        for dep in deps:\n",
        "            if dep.pos_ == \"ADP\" and (dep.dep_ == \"prep\" or (is_pas and dep.dep_ == \"agent\")):\n",
        "                objs.extend([tok for tok in dep.rights if tok.dep_ in [\"dobj\", \"dative\", \"attr\", \"oprd\", \"pobj\"] or (tok.pos_ == \"PRON\" and tok.lower_ == \"me\") or (is_pas and tok.dep_ == 'pobj')])\n",
        "        return objs\n",
        "\n",
        "    def get_svo_triples(self):\n",
        "        self.doc = self.merge_phrases()\n",
        "        self.doc = self.merge_punct()\n",
        "        is_pas = self.is_passive(self.doc)\n",
        "        verbs = self.find_verbs(self.doc)\n",
        "\n",
        "        for verb in verbs:\n",
        "            subject_tokens = self.get_all_subs(verb)\n",
        "            object_tokens = self.get_all_objs(verb, is_pas)\n",
        "\n",
        "            subject_phrase = ' '.join([token.text for token in subject_tokens])\n",
        "            verb_phrase = verb.text\n",
        "            object_phrase = ' '.join([token.text for token in object_tokens])\n",
        "\n",
        "            if subject_phrase and verb_phrase and object_phrase:\n",
        "                self.svos.append((subject_phrase, verb_phrase, object_phrase))\n",
        "            elif subject_phrase and verb_phrase:\n",
        "                self.svos.append((subject_phrase, verb_phrase))\n",
        "            elif verb_phrase and object_phrase:\n",
        "                self.svos.append((verb_phrase, object_phrase))\n",
        "            else:\n",
        "                self.svos.append((verb_phrase,))\n",
        "\n",
        "        return self.svos"
      ],
      "metadata": {
        "id": "BdX3JnLr8wb0"
      },
      "execution_count": null,
      "outputs": []
    },
    {
      "cell_type": "code",
      "source": [
        "phrases = Phrases(sentence)\n",
        "svo_triples = phrases.get_svo_triples()\n",
        "print(svo_triples)"
      ],
      "metadata": {
        "id": "MGmp3FHf9mXJ"
      },
      "execution_count": null,
      "outputs": []
    }
  ]
}